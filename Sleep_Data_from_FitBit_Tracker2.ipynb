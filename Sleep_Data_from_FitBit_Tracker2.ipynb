{
  "nbformat": 4,
  "nbformat_minor": 0,
  "metadata": {
    "colab": {
      "name": "Sleep Data from FitBit Tracker2.ipynb",
      "provenance": [],
      "collapsed_sections": []
    },
    "kernelspec": {
      "name": "python3",
      "display_name": "Python 3"
    },
    "language_info": {
      "name": "python"
    }
  },
  "cells": [
    {
      "cell_type": "code",
      "execution_count": 230,
      "metadata": {
        "id": "bVM3it-uIHIA"
      },
      "outputs": [],
      "source": [
        "import numpy as np\n",
        "import pandas as pd\n",
        "import re\n",
        "from datetime import datetime as dt\n",
        "from datetime import timedelta"
      ]
    },
    {
      "cell_type": "markdown",
      "source": [
        "#Data Exploration and processing phase"
      ],
      "metadata": {
        "id": "OfVE5aNi9sfd"
      }
    },
    {
      "cell_type": "code",
      "source": [
        "nov_df = pd.read_csv(\"November Sleep Data - Sheet1.csv\")"
      ],
      "metadata": {
        "id": "1s0x4KY0IRla"
      },
      "execution_count": 231,
      "outputs": []
    },
    {
      "cell_type": "code",
      "source": [
        "nov_df.head()"
      ],
      "metadata": {
        "colab": {
          "base_uri": "https://localhost:8080/",
          "height": 206
        },
        "id": "6AMHCFj2IUxw",
        "outputId": "93606dba-cc66-455e-b4f4-88d2bc9d27b3"
      },
      "execution_count": 232,
      "outputs": [
        {
          "output_type": "execute_result",
          "data": {
            "text/plain": [
              "    NOVEMBER       DATE  SLEEP SCORE HOURS OF SLEEP REM SLEEP DEEP SLEEP  \\\n",
              "0        NaN        NaN          NaN            NaN       NaN        NaN   \n",
              "1     Monday  11/1/2021         88.0        8:06:00    20.00%     13.00%   \n",
              "2    Tuesday  11/2/2021         83.0        7:57:00    12.00%     18.00%   \n",
              "3  Wednesday  11/3/2021         81.0        7:06:00    13.00%     22.00%   \n",
              "4   Thursday  11/4/2021         86.0        7:04:00    19.00%     17.00%   \n",
              "\n",
              "  HEART RATE BELOW RESTING        SLEEP TIME  \n",
              "0                      NaN               NaN  \n",
              "1                   84.00%  10:41pm - 7:54am  \n",
              "2                   90.00%  10:40pm - 7:55am  \n",
              "3                   93.00%  11:03pm - 7:16am  \n",
              "4                   97.00%  10:55pm - 6:56am  "
            ],
            "text/html": [
              "\n",
              "  <div id=\"df-1e875dcf-1691-42eb-ae1b-02bbce038f5e\">\n",
              "    <div class=\"colab-df-container\">\n",
              "      <div>\n",
              "<style scoped>\n",
              "    .dataframe tbody tr th:only-of-type {\n",
              "        vertical-align: middle;\n",
              "    }\n",
              "\n",
              "    .dataframe tbody tr th {\n",
              "        vertical-align: top;\n",
              "    }\n",
              "\n",
              "    .dataframe thead th {\n",
              "        text-align: right;\n",
              "    }\n",
              "</style>\n",
              "<table border=\"1\" class=\"dataframe\">\n",
              "  <thead>\n",
              "    <tr style=\"text-align: right;\">\n",
              "      <th></th>\n",
              "      <th>NOVEMBER</th>\n",
              "      <th>DATE</th>\n",
              "      <th>SLEEP SCORE</th>\n",
              "      <th>HOURS OF SLEEP</th>\n",
              "      <th>REM SLEEP</th>\n",
              "      <th>DEEP SLEEP</th>\n",
              "      <th>HEART RATE BELOW RESTING</th>\n",
              "      <th>SLEEP TIME</th>\n",
              "    </tr>\n",
              "  </thead>\n",
              "  <tbody>\n",
              "    <tr>\n",
              "      <th>0</th>\n",
              "      <td>NaN</td>\n",
              "      <td>NaN</td>\n",
              "      <td>NaN</td>\n",
              "      <td>NaN</td>\n",
              "      <td>NaN</td>\n",
              "      <td>NaN</td>\n",
              "      <td>NaN</td>\n",
              "      <td>NaN</td>\n",
              "    </tr>\n",
              "    <tr>\n",
              "      <th>1</th>\n",
              "      <td>Monday</td>\n",
              "      <td>11/1/2021</td>\n",
              "      <td>88.0</td>\n",
              "      <td>8:06:00</td>\n",
              "      <td>20.00%</td>\n",
              "      <td>13.00%</td>\n",
              "      <td>84.00%</td>\n",
              "      <td>10:41pm - 7:54am</td>\n",
              "    </tr>\n",
              "    <tr>\n",
              "      <th>2</th>\n",
              "      <td>Tuesday</td>\n",
              "      <td>11/2/2021</td>\n",
              "      <td>83.0</td>\n",
              "      <td>7:57:00</td>\n",
              "      <td>12.00%</td>\n",
              "      <td>18.00%</td>\n",
              "      <td>90.00%</td>\n",
              "      <td>10:40pm - 7:55am</td>\n",
              "    </tr>\n",
              "    <tr>\n",
              "      <th>3</th>\n",
              "      <td>Wednesday</td>\n",
              "      <td>11/3/2021</td>\n",
              "      <td>81.0</td>\n",
              "      <td>7:06:00</td>\n",
              "      <td>13.00%</td>\n",
              "      <td>22.00%</td>\n",
              "      <td>93.00%</td>\n",
              "      <td>11:03pm - 7:16am</td>\n",
              "    </tr>\n",
              "    <tr>\n",
              "      <th>4</th>\n",
              "      <td>Thursday</td>\n",
              "      <td>11/4/2021</td>\n",
              "      <td>86.0</td>\n",
              "      <td>7:04:00</td>\n",
              "      <td>19.00%</td>\n",
              "      <td>17.00%</td>\n",
              "      <td>97.00%</td>\n",
              "      <td>10:55pm - 6:56am</td>\n",
              "    </tr>\n",
              "  </tbody>\n",
              "</table>\n",
              "</div>\n",
              "      <button class=\"colab-df-convert\" onclick=\"convertToInteractive('df-1e875dcf-1691-42eb-ae1b-02bbce038f5e')\"\n",
              "              title=\"Convert this dataframe to an interactive table.\"\n",
              "              style=\"display:none;\">\n",
              "        \n",
              "  <svg xmlns=\"http://www.w3.org/2000/svg\" height=\"24px\"viewBox=\"0 0 24 24\"\n",
              "       width=\"24px\">\n",
              "    <path d=\"M0 0h24v24H0V0z\" fill=\"none\"/>\n",
              "    <path d=\"M18.56 5.44l.94 2.06.94-2.06 2.06-.94-2.06-.94-.94-2.06-.94 2.06-2.06.94zm-11 1L8.5 8.5l.94-2.06 2.06-.94-2.06-.94L8.5 2.5l-.94 2.06-2.06.94zm10 10l.94 2.06.94-2.06 2.06-.94-2.06-.94-.94-2.06-.94 2.06-2.06.94z\"/><path d=\"M17.41 7.96l-1.37-1.37c-.4-.4-.92-.59-1.43-.59-.52 0-1.04.2-1.43.59L10.3 9.45l-7.72 7.72c-.78.78-.78 2.05 0 2.83L4 21.41c.39.39.9.59 1.41.59.51 0 1.02-.2 1.41-.59l7.78-7.78 2.81-2.81c.8-.78.8-2.07 0-2.86zM5.41 20L4 18.59l7.72-7.72 1.47 1.35L5.41 20z\"/>\n",
              "  </svg>\n",
              "      </button>\n",
              "      \n",
              "  <style>\n",
              "    .colab-df-container {\n",
              "      display:flex;\n",
              "      flex-wrap:wrap;\n",
              "      gap: 12px;\n",
              "    }\n",
              "\n",
              "    .colab-df-convert {\n",
              "      background-color: #E8F0FE;\n",
              "      border: none;\n",
              "      border-radius: 50%;\n",
              "      cursor: pointer;\n",
              "      display: none;\n",
              "      fill: #1967D2;\n",
              "      height: 32px;\n",
              "      padding: 0 0 0 0;\n",
              "      width: 32px;\n",
              "    }\n",
              "\n",
              "    .colab-df-convert:hover {\n",
              "      background-color: #E2EBFA;\n",
              "      box-shadow: 0px 1px 2px rgba(60, 64, 67, 0.3), 0px 1px 3px 1px rgba(60, 64, 67, 0.15);\n",
              "      fill: #174EA6;\n",
              "    }\n",
              "\n",
              "    [theme=dark] .colab-df-convert {\n",
              "      background-color: #3B4455;\n",
              "      fill: #D2E3FC;\n",
              "    }\n",
              "\n",
              "    [theme=dark] .colab-df-convert:hover {\n",
              "      background-color: #434B5C;\n",
              "      box-shadow: 0px 1px 3px 1px rgba(0, 0, 0, 0.15);\n",
              "      filter: drop-shadow(0px 1px 2px rgba(0, 0, 0, 0.3));\n",
              "      fill: #FFFFFF;\n",
              "    }\n",
              "  </style>\n",
              "\n",
              "      <script>\n",
              "        const buttonEl =\n",
              "          document.querySelector('#df-1e875dcf-1691-42eb-ae1b-02bbce038f5e button.colab-df-convert');\n",
              "        buttonEl.style.display =\n",
              "          google.colab.kernel.accessAllowed ? 'block' : 'none';\n",
              "\n",
              "        async function convertToInteractive(key) {\n",
              "          const element = document.querySelector('#df-1e875dcf-1691-42eb-ae1b-02bbce038f5e');\n",
              "          const dataTable =\n",
              "            await google.colab.kernel.invokeFunction('convertToInteractive',\n",
              "                                                     [key], {});\n",
              "          if (!dataTable) return;\n",
              "\n",
              "          const docLinkHtml = 'Like what you see? Visit the ' +\n",
              "            '<a target=\"_blank\" href=https://colab.research.google.com/notebooks/data_table.ipynb>data table notebook</a>'\n",
              "            + ' to learn more about interactive tables.';\n",
              "          element.innerHTML = '';\n",
              "          dataTable['output_type'] = 'display_data';\n",
              "          await google.colab.output.renderOutput(dataTable, element);\n",
              "          const docLink = document.createElement('div');\n",
              "          docLink.innerHTML = docLinkHtml;\n",
              "          element.appendChild(docLink);\n",
              "        }\n",
              "      </script>\n",
              "    </div>\n",
              "  </div>\n",
              "  "
            ]
          },
          "metadata": {},
          "execution_count": 232
        }
      ]
    },
    {
      "cell_type": "code",
      "source": [
        "# Drop missing values\n",
        "nov_df.dropna(inplace=True)"
      ],
      "metadata": {
        "id": "9w1zUurrIWBo"
      },
      "execution_count": 233,
      "outputs": []
    },
    {
      "cell_type": "code",
      "source": [
        "nov_df.rename({\"{}\".format(nov_df.columns[0]): \"DAY OF WEEK\"},axis=1, inplace=True)"
      ],
      "metadata": {
        "id": "iarHTrEwIpGh"
      },
      "execution_count": 234,
      "outputs": []
    },
    {
      "cell_type": "code",
      "source": [
        "nov_df.head()"
      ],
      "metadata": {
        "colab": {
          "base_uri": "https://localhost:8080/",
          "height": 206
        },
        "id": "H-V2V4nqI1Gx",
        "outputId": "17c0338c-5869-48a6-8b4d-2096b900248f"
      },
      "execution_count": 235,
      "outputs": [
        {
          "output_type": "execute_result",
          "data": {
            "text/plain": [
              "  DAY OF WEEK       DATE  SLEEP SCORE HOURS OF SLEEP REM SLEEP DEEP SLEEP  \\\n",
              "1      Monday  11/1/2021         88.0        8:06:00    20.00%     13.00%   \n",
              "2     Tuesday  11/2/2021         83.0        7:57:00    12.00%     18.00%   \n",
              "3   Wednesday  11/3/2021         81.0        7:06:00    13.00%     22.00%   \n",
              "4    Thursday  11/4/2021         86.0        7:04:00    19.00%     17.00%   \n",
              "5      Friday  11/5/2021         81.0        9:24:00    17.00%     15.00%   \n",
              "\n",
              "  HEART RATE BELOW RESTING        SLEEP TIME  \n",
              "1                   84.00%  10:41pm - 7:54am  \n",
              "2                   90.00%  10:40pm - 7:55am  \n",
              "3                   93.00%  11:03pm - 7:16am  \n",
              "4                   97.00%  10:55pm - 6:56am  \n",
              "5                   66.00%  10:14pm - 9:01am  "
            ],
            "text/html": [
              "\n",
              "  <div id=\"df-75c9255f-6a74-4e0c-8767-08616dc10c83\">\n",
              "    <div class=\"colab-df-container\">\n",
              "      <div>\n",
              "<style scoped>\n",
              "    .dataframe tbody tr th:only-of-type {\n",
              "        vertical-align: middle;\n",
              "    }\n",
              "\n",
              "    .dataframe tbody tr th {\n",
              "        vertical-align: top;\n",
              "    }\n",
              "\n",
              "    .dataframe thead th {\n",
              "        text-align: right;\n",
              "    }\n",
              "</style>\n",
              "<table border=\"1\" class=\"dataframe\">\n",
              "  <thead>\n",
              "    <tr style=\"text-align: right;\">\n",
              "      <th></th>\n",
              "      <th>DAY OF WEEK</th>\n",
              "      <th>DATE</th>\n",
              "      <th>SLEEP SCORE</th>\n",
              "      <th>HOURS OF SLEEP</th>\n",
              "      <th>REM SLEEP</th>\n",
              "      <th>DEEP SLEEP</th>\n",
              "      <th>HEART RATE BELOW RESTING</th>\n",
              "      <th>SLEEP TIME</th>\n",
              "    </tr>\n",
              "  </thead>\n",
              "  <tbody>\n",
              "    <tr>\n",
              "      <th>1</th>\n",
              "      <td>Monday</td>\n",
              "      <td>11/1/2021</td>\n",
              "      <td>88.0</td>\n",
              "      <td>8:06:00</td>\n",
              "      <td>20.00%</td>\n",
              "      <td>13.00%</td>\n",
              "      <td>84.00%</td>\n",
              "      <td>10:41pm - 7:54am</td>\n",
              "    </tr>\n",
              "    <tr>\n",
              "      <th>2</th>\n",
              "      <td>Tuesday</td>\n",
              "      <td>11/2/2021</td>\n",
              "      <td>83.0</td>\n",
              "      <td>7:57:00</td>\n",
              "      <td>12.00%</td>\n",
              "      <td>18.00%</td>\n",
              "      <td>90.00%</td>\n",
              "      <td>10:40pm - 7:55am</td>\n",
              "    </tr>\n",
              "    <tr>\n",
              "      <th>3</th>\n",
              "      <td>Wednesday</td>\n",
              "      <td>11/3/2021</td>\n",
              "      <td>81.0</td>\n",
              "      <td>7:06:00</td>\n",
              "      <td>13.00%</td>\n",
              "      <td>22.00%</td>\n",
              "      <td>93.00%</td>\n",
              "      <td>11:03pm - 7:16am</td>\n",
              "    </tr>\n",
              "    <tr>\n",
              "      <th>4</th>\n",
              "      <td>Thursday</td>\n",
              "      <td>11/4/2021</td>\n",
              "      <td>86.0</td>\n",
              "      <td>7:04:00</td>\n",
              "      <td>19.00%</td>\n",
              "      <td>17.00%</td>\n",
              "      <td>97.00%</td>\n",
              "      <td>10:55pm - 6:56am</td>\n",
              "    </tr>\n",
              "    <tr>\n",
              "      <th>5</th>\n",
              "      <td>Friday</td>\n",
              "      <td>11/5/2021</td>\n",
              "      <td>81.0</td>\n",
              "      <td>9:24:00</td>\n",
              "      <td>17.00%</td>\n",
              "      <td>15.00%</td>\n",
              "      <td>66.00%</td>\n",
              "      <td>10:14pm - 9:01am</td>\n",
              "    </tr>\n",
              "  </tbody>\n",
              "</table>\n",
              "</div>\n",
              "      <button class=\"colab-df-convert\" onclick=\"convertToInteractive('df-75c9255f-6a74-4e0c-8767-08616dc10c83')\"\n",
              "              title=\"Convert this dataframe to an interactive table.\"\n",
              "              style=\"display:none;\">\n",
              "        \n",
              "  <svg xmlns=\"http://www.w3.org/2000/svg\" height=\"24px\"viewBox=\"0 0 24 24\"\n",
              "       width=\"24px\">\n",
              "    <path d=\"M0 0h24v24H0V0z\" fill=\"none\"/>\n",
              "    <path d=\"M18.56 5.44l.94 2.06.94-2.06 2.06-.94-2.06-.94-.94-2.06-.94 2.06-2.06.94zm-11 1L8.5 8.5l.94-2.06 2.06-.94-2.06-.94L8.5 2.5l-.94 2.06-2.06.94zm10 10l.94 2.06.94-2.06 2.06-.94-2.06-.94-.94-2.06-.94 2.06-2.06.94z\"/><path d=\"M17.41 7.96l-1.37-1.37c-.4-.4-.92-.59-1.43-.59-.52 0-1.04.2-1.43.59L10.3 9.45l-7.72 7.72c-.78.78-.78 2.05 0 2.83L4 21.41c.39.39.9.59 1.41.59.51 0 1.02-.2 1.41-.59l7.78-7.78 2.81-2.81c.8-.78.8-2.07 0-2.86zM5.41 20L4 18.59l7.72-7.72 1.47 1.35L5.41 20z\"/>\n",
              "  </svg>\n",
              "      </button>\n",
              "      \n",
              "  <style>\n",
              "    .colab-df-container {\n",
              "      display:flex;\n",
              "      flex-wrap:wrap;\n",
              "      gap: 12px;\n",
              "    }\n",
              "\n",
              "    .colab-df-convert {\n",
              "      background-color: #E8F0FE;\n",
              "      border: none;\n",
              "      border-radius: 50%;\n",
              "      cursor: pointer;\n",
              "      display: none;\n",
              "      fill: #1967D2;\n",
              "      height: 32px;\n",
              "      padding: 0 0 0 0;\n",
              "      width: 32px;\n",
              "    }\n",
              "\n",
              "    .colab-df-convert:hover {\n",
              "      background-color: #E2EBFA;\n",
              "      box-shadow: 0px 1px 2px rgba(60, 64, 67, 0.3), 0px 1px 3px 1px rgba(60, 64, 67, 0.15);\n",
              "      fill: #174EA6;\n",
              "    }\n",
              "\n",
              "    [theme=dark] .colab-df-convert {\n",
              "      background-color: #3B4455;\n",
              "      fill: #D2E3FC;\n",
              "    }\n",
              "\n",
              "    [theme=dark] .colab-df-convert:hover {\n",
              "      background-color: #434B5C;\n",
              "      box-shadow: 0px 1px 3px 1px rgba(0, 0, 0, 0.15);\n",
              "      filter: drop-shadow(0px 1px 2px rgba(0, 0, 0, 0.3));\n",
              "      fill: #FFFFFF;\n",
              "    }\n",
              "  </style>\n",
              "\n",
              "      <script>\n",
              "        const buttonEl =\n",
              "          document.querySelector('#df-75c9255f-6a74-4e0c-8767-08616dc10c83 button.colab-df-convert');\n",
              "        buttonEl.style.display =\n",
              "          google.colab.kernel.accessAllowed ? 'block' : 'none';\n",
              "\n",
              "        async function convertToInteractive(key) {\n",
              "          const element = document.querySelector('#df-75c9255f-6a74-4e0c-8767-08616dc10c83');\n",
              "          const dataTable =\n",
              "            await google.colab.kernel.invokeFunction('convertToInteractive',\n",
              "                                                     [key], {});\n",
              "          if (!dataTable) return;\n",
              "\n",
              "          const docLinkHtml = 'Like what you see? Visit the ' +\n",
              "            '<a target=\"_blank\" href=https://colab.research.google.com/notebooks/data_table.ipynb>data table notebook</a>'\n",
              "            + ' to learn more about interactive tables.';\n",
              "          element.innerHTML = '';\n",
              "          dataTable['output_type'] = 'display_data';\n",
              "          await google.colab.output.renderOutput(dataTable, element);\n",
              "          const docLink = document.createElement('div');\n",
              "          docLink.innerHTML = docLinkHtml;\n",
              "          element.appendChild(docLink);\n",
              "        }\n",
              "      </script>\n",
              "    </div>\n",
              "  </div>\n",
              "  "
            ]
          },
          "metadata": {},
          "execution_count": 235
        }
      ]
    },
    {
      "cell_type": "code",
      "source": [
        "nov_df.info()"
      ],
      "metadata": {
        "colab": {
          "base_uri": "https://localhost:8080/"
        },
        "id": "kG8vlw2FI6kx",
        "outputId": "04f84936-7492-4e14-8c06-d1afaec523a3"
      },
      "execution_count": 236,
      "outputs": [
        {
          "output_type": "stream",
          "name": "stdout",
          "text": [
            "<class 'pandas.core.frame.DataFrame'>\n",
            "Int64Index: 30 entries, 1 to 30\n",
            "Data columns (total 8 columns):\n",
            " #   Column                    Non-Null Count  Dtype  \n",
            "---  ------                    --------------  -----  \n",
            " 0   DAY OF WEEK               30 non-null     object \n",
            " 1   DATE                      30 non-null     object \n",
            " 2   SLEEP SCORE               30 non-null     float64\n",
            " 3   HOURS OF SLEEP            30 non-null     object \n",
            " 4   REM SLEEP                 30 non-null     object \n",
            " 5   DEEP SLEEP                30 non-null     object \n",
            " 6   HEART RATE BELOW RESTING  30 non-null     object \n",
            " 7   SLEEP TIME                30 non-null     object \n",
            "dtypes: float64(1), object(7)\n",
            "memory usage: 2.1+ KB\n"
          ]
        }
      ]
    },
    {
      "cell_type": "code",
      "source": [
        "# Converting percentage string to decimal numbers\n",
        "percentage_columns_list = ['REM SLEEP', 'DEEP SLEEP', 'HEART RATE BELOW RESTING']\n",
        "\n",
        "nov_df[percentage_columns_list] = nov_df[percentage_columns_list].apply(lambda x: x.str.strip(\"%\").astype(np.float32) / 100)"
      ],
      "metadata": {
        "id": "nqZCUVY5JMl_"
      },
      "execution_count": 237,
      "outputs": []
    },
    {
      "cell_type": "code",
      "source": [
        "# conveting hours of sleep to minutes of sleep in order to be represented as a numeric value\n",
        "\n",
        "nov_df['HOURS OF SLEEP'] = nov_df['HOURS OF SLEEP'].apply(lambda x: float(x.split(\":\")[0]) * 60 + float(x.split(\":\")[1]))\n",
        "\n",
        "\n"
      ],
      "metadata": {
        "id": "mHrt7PnNRzxO"
      },
      "execution_count": 238,
      "outputs": []
    },
    {
      "cell_type": "code",
      "source": [
        "nov_df.rename({\"HOURS OF SLEEP\": \"MINUTES OF SLEEP\"}, axis=1, inplace=True)"
      ],
      "metadata": {
        "id": "xRTfKu0idIqS"
      },
      "execution_count": 239,
      "outputs": []
    },
    {
      "cell_type": "code",
      "source": [
        "nov_df.head()"
      ],
      "metadata": {
        "colab": {
          "base_uri": "https://localhost:8080/",
          "height": 206
        },
        "id": "MZ-QqO5rdOD7",
        "outputId": "ee422b23-0150-4183-97af-963bc3e869cf"
      },
      "execution_count": 240,
      "outputs": [
        {
          "output_type": "execute_result",
          "data": {
            "text/plain": [
              "  DAY OF WEEK       DATE  SLEEP SCORE  MINUTES OF SLEEP  REM SLEEP  \\\n",
              "1      Monday  11/1/2021         88.0             486.0       0.20   \n",
              "2     Tuesday  11/2/2021         83.0             477.0       0.12   \n",
              "3   Wednesday  11/3/2021         81.0             426.0       0.13   \n",
              "4    Thursday  11/4/2021         86.0             424.0       0.19   \n",
              "5      Friday  11/5/2021         81.0             564.0       0.17   \n",
              "\n",
              "   DEEP SLEEP  HEART RATE BELOW RESTING        SLEEP TIME  \n",
              "1        0.13                      0.84  10:41pm - 7:54am  \n",
              "2        0.18                      0.90  10:40pm - 7:55am  \n",
              "3        0.22                      0.93  11:03pm - 7:16am  \n",
              "4        0.17                      0.97  10:55pm - 6:56am  \n",
              "5        0.15                      0.66  10:14pm - 9:01am  "
            ],
            "text/html": [
              "\n",
              "  <div id=\"df-89762cbd-c993-442f-9bb1-ba58f7a8def6\">\n",
              "    <div class=\"colab-df-container\">\n",
              "      <div>\n",
              "<style scoped>\n",
              "    .dataframe tbody tr th:only-of-type {\n",
              "        vertical-align: middle;\n",
              "    }\n",
              "\n",
              "    .dataframe tbody tr th {\n",
              "        vertical-align: top;\n",
              "    }\n",
              "\n",
              "    .dataframe thead th {\n",
              "        text-align: right;\n",
              "    }\n",
              "</style>\n",
              "<table border=\"1\" class=\"dataframe\">\n",
              "  <thead>\n",
              "    <tr style=\"text-align: right;\">\n",
              "      <th></th>\n",
              "      <th>DAY OF WEEK</th>\n",
              "      <th>DATE</th>\n",
              "      <th>SLEEP SCORE</th>\n",
              "      <th>MINUTES OF SLEEP</th>\n",
              "      <th>REM SLEEP</th>\n",
              "      <th>DEEP SLEEP</th>\n",
              "      <th>HEART RATE BELOW RESTING</th>\n",
              "      <th>SLEEP TIME</th>\n",
              "    </tr>\n",
              "  </thead>\n",
              "  <tbody>\n",
              "    <tr>\n",
              "      <th>1</th>\n",
              "      <td>Monday</td>\n",
              "      <td>11/1/2021</td>\n",
              "      <td>88.0</td>\n",
              "      <td>486.0</td>\n",
              "      <td>0.20</td>\n",
              "      <td>0.13</td>\n",
              "      <td>0.84</td>\n",
              "      <td>10:41pm - 7:54am</td>\n",
              "    </tr>\n",
              "    <tr>\n",
              "      <th>2</th>\n",
              "      <td>Tuesday</td>\n",
              "      <td>11/2/2021</td>\n",
              "      <td>83.0</td>\n",
              "      <td>477.0</td>\n",
              "      <td>0.12</td>\n",
              "      <td>0.18</td>\n",
              "      <td>0.90</td>\n",
              "      <td>10:40pm - 7:55am</td>\n",
              "    </tr>\n",
              "    <tr>\n",
              "      <th>3</th>\n",
              "      <td>Wednesday</td>\n",
              "      <td>11/3/2021</td>\n",
              "      <td>81.0</td>\n",
              "      <td>426.0</td>\n",
              "      <td>0.13</td>\n",
              "      <td>0.22</td>\n",
              "      <td>0.93</td>\n",
              "      <td>11:03pm - 7:16am</td>\n",
              "    </tr>\n",
              "    <tr>\n",
              "      <th>4</th>\n",
              "      <td>Thursday</td>\n",
              "      <td>11/4/2021</td>\n",
              "      <td>86.0</td>\n",
              "      <td>424.0</td>\n",
              "      <td>0.19</td>\n",
              "      <td>0.17</td>\n",
              "      <td>0.97</td>\n",
              "      <td>10:55pm - 6:56am</td>\n",
              "    </tr>\n",
              "    <tr>\n",
              "      <th>5</th>\n",
              "      <td>Friday</td>\n",
              "      <td>11/5/2021</td>\n",
              "      <td>81.0</td>\n",
              "      <td>564.0</td>\n",
              "      <td>0.17</td>\n",
              "      <td>0.15</td>\n",
              "      <td>0.66</td>\n",
              "      <td>10:14pm - 9:01am</td>\n",
              "    </tr>\n",
              "  </tbody>\n",
              "</table>\n",
              "</div>\n",
              "      <button class=\"colab-df-convert\" onclick=\"convertToInteractive('df-89762cbd-c993-442f-9bb1-ba58f7a8def6')\"\n",
              "              title=\"Convert this dataframe to an interactive table.\"\n",
              "              style=\"display:none;\">\n",
              "        \n",
              "  <svg xmlns=\"http://www.w3.org/2000/svg\" height=\"24px\"viewBox=\"0 0 24 24\"\n",
              "       width=\"24px\">\n",
              "    <path d=\"M0 0h24v24H0V0z\" fill=\"none\"/>\n",
              "    <path d=\"M18.56 5.44l.94 2.06.94-2.06 2.06-.94-2.06-.94-.94-2.06-.94 2.06-2.06.94zm-11 1L8.5 8.5l.94-2.06 2.06-.94-2.06-.94L8.5 2.5l-.94 2.06-2.06.94zm10 10l.94 2.06.94-2.06 2.06-.94-2.06-.94-.94-2.06-.94 2.06-2.06.94z\"/><path d=\"M17.41 7.96l-1.37-1.37c-.4-.4-.92-.59-1.43-.59-.52 0-1.04.2-1.43.59L10.3 9.45l-7.72 7.72c-.78.78-.78 2.05 0 2.83L4 21.41c.39.39.9.59 1.41.59.51 0 1.02-.2 1.41-.59l7.78-7.78 2.81-2.81c.8-.78.8-2.07 0-2.86zM5.41 20L4 18.59l7.72-7.72 1.47 1.35L5.41 20z\"/>\n",
              "  </svg>\n",
              "      </button>\n",
              "      \n",
              "  <style>\n",
              "    .colab-df-container {\n",
              "      display:flex;\n",
              "      flex-wrap:wrap;\n",
              "      gap: 12px;\n",
              "    }\n",
              "\n",
              "    .colab-df-convert {\n",
              "      background-color: #E8F0FE;\n",
              "      border: none;\n",
              "      border-radius: 50%;\n",
              "      cursor: pointer;\n",
              "      display: none;\n",
              "      fill: #1967D2;\n",
              "      height: 32px;\n",
              "      padding: 0 0 0 0;\n",
              "      width: 32px;\n",
              "    }\n",
              "\n",
              "    .colab-df-convert:hover {\n",
              "      background-color: #E2EBFA;\n",
              "      box-shadow: 0px 1px 2px rgba(60, 64, 67, 0.3), 0px 1px 3px 1px rgba(60, 64, 67, 0.15);\n",
              "      fill: #174EA6;\n",
              "    }\n",
              "\n",
              "    [theme=dark] .colab-df-convert {\n",
              "      background-color: #3B4455;\n",
              "      fill: #D2E3FC;\n",
              "    }\n",
              "\n",
              "    [theme=dark] .colab-df-convert:hover {\n",
              "      background-color: #434B5C;\n",
              "      box-shadow: 0px 1px 3px 1px rgba(0, 0, 0, 0.15);\n",
              "      filter: drop-shadow(0px 1px 2px rgba(0, 0, 0, 0.3));\n",
              "      fill: #FFFFFF;\n",
              "    }\n",
              "  </style>\n",
              "\n",
              "      <script>\n",
              "        const buttonEl =\n",
              "          document.querySelector('#df-89762cbd-c993-442f-9bb1-ba58f7a8def6 button.colab-df-convert');\n",
              "        buttonEl.style.display =\n",
              "          google.colab.kernel.accessAllowed ? 'block' : 'none';\n",
              "\n",
              "        async function convertToInteractive(key) {\n",
              "          const element = document.querySelector('#df-89762cbd-c993-442f-9bb1-ba58f7a8def6');\n",
              "          const dataTable =\n",
              "            await google.colab.kernel.invokeFunction('convertToInteractive',\n",
              "                                                     [key], {});\n",
              "          if (!dataTable) return;\n",
              "\n",
              "          const docLinkHtml = 'Like what you see? Visit the ' +\n",
              "            '<a target=\"_blank\" href=https://colab.research.google.com/notebooks/data_table.ipynb>data table notebook</a>'\n",
              "            + ' to learn more about interactive tables.';\n",
              "          element.innerHTML = '';\n",
              "          dataTable['output_type'] = 'display_data';\n",
              "          await google.colab.output.renderOutput(dataTable, element);\n",
              "          const docLink = document.createElement('div');\n",
              "          docLink.innerHTML = docLinkHtml;\n",
              "          element.appendChild(docLink);\n",
              "        }\n",
              "      </script>\n",
              "    </div>\n",
              "  </div>\n",
              "  "
            ]
          },
          "metadata": {},
          "execution_count": 240
        }
      ]
    },
    {
      "cell_type": "code",
      "source": [
        "# performing one hot encoding of DAY OF WEEK\n",
        "\n",
        "from sklearn.preprocessing import OneHotEncoder\n",
        "day_encoder =  OneHotEncoder()\n",
        "one_hot_encoded_features = day_encoder.fit_transform(nov_df['DAY OF WEEK'].values.reshape(-1, 1)).toarray()\n",
        "encoded_feat_df = pd.DataFrame(one_hot_encoded_features, columns=day_encoder.categories_, index=nov_df.index)\n",
        "nov_df[day_encoder.categories_[0]] = encoded_feat_df"
      ],
      "metadata": {
        "id": "_FI3r4EveYdw"
      },
      "execution_count": 241,
      "outputs": []
    },
    {
      "cell_type": "code",
      "source": [
        "nov_df.head()"
      ],
      "metadata": {
        "colab": {
          "base_uri": "https://localhost:8080/",
          "height": 372
        },
        "id": "-8ovTarnh6ty",
        "outputId": "b7dc5f93-570b-4608-bbdf-122cb5bc5fc6"
      },
      "execution_count": 242,
      "outputs": [
        {
          "output_type": "execute_result",
          "data": {
            "text/plain": [
              "  DAY OF WEEK       DATE  SLEEP SCORE  MINUTES OF SLEEP  REM SLEEP  \\\n",
              "1      Monday  11/1/2021         88.0             486.0       0.20   \n",
              "2     Tuesday  11/2/2021         83.0             477.0       0.12   \n",
              "3   Wednesday  11/3/2021         81.0             426.0       0.13   \n",
              "4    Thursday  11/4/2021         86.0             424.0       0.19   \n",
              "5      Friday  11/5/2021         81.0             564.0       0.17   \n",
              "\n",
              "   DEEP SLEEP  HEART RATE BELOW RESTING        SLEEP TIME  Friday  Monday  \\\n",
              "1        0.13                      0.84  10:41pm - 7:54am     0.0     1.0   \n",
              "2        0.18                      0.90  10:40pm - 7:55am     0.0     0.0   \n",
              "3        0.22                      0.93  11:03pm - 7:16am     0.0     0.0   \n",
              "4        0.17                      0.97  10:55pm - 6:56am     0.0     0.0   \n",
              "5        0.15                      0.66  10:14pm - 9:01am     1.0     0.0   \n",
              "\n",
              "   Saturday  Sunday  Thursday  Tuesday  Wednesday  \n",
              "1       0.0     0.0       0.0      0.0        0.0  \n",
              "2       0.0     0.0       0.0      1.0        0.0  \n",
              "3       0.0     0.0       0.0      0.0        1.0  \n",
              "4       0.0     0.0       1.0      0.0        0.0  \n",
              "5       0.0     0.0       0.0      0.0        0.0  "
            ],
            "text/html": [
              "\n",
              "  <div id=\"df-df847495-bb21-49e9-8295-7fad0e35673c\">\n",
              "    <div class=\"colab-df-container\">\n",
              "      <div>\n",
              "<style scoped>\n",
              "    .dataframe tbody tr th:only-of-type {\n",
              "        vertical-align: middle;\n",
              "    }\n",
              "\n",
              "    .dataframe tbody tr th {\n",
              "        vertical-align: top;\n",
              "    }\n",
              "\n",
              "    .dataframe thead th {\n",
              "        text-align: right;\n",
              "    }\n",
              "</style>\n",
              "<table border=\"1\" class=\"dataframe\">\n",
              "  <thead>\n",
              "    <tr style=\"text-align: right;\">\n",
              "      <th></th>\n",
              "      <th>DAY OF WEEK</th>\n",
              "      <th>DATE</th>\n",
              "      <th>SLEEP SCORE</th>\n",
              "      <th>MINUTES OF SLEEP</th>\n",
              "      <th>REM SLEEP</th>\n",
              "      <th>DEEP SLEEP</th>\n",
              "      <th>HEART RATE BELOW RESTING</th>\n",
              "      <th>SLEEP TIME</th>\n",
              "      <th>Friday</th>\n",
              "      <th>Monday</th>\n",
              "      <th>Saturday</th>\n",
              "      <th>Sunday</th>\n",
              "      <th>Thursday</th>\n",
              "      <th>Tuesday</th>\n",
              "      <th>Wednesday</th>\n",
              "    </tr>\n",
              "  </thead>\n",
              "  <tbody>\n",
              "    <tr>\n",
              "      <th>1</th>\n",
              "      <td>Monday</td>\n",
              "      <td>11/1/2021</td>\n",
              "      <td>88.0</td>\n",
              "      <td>486.0</td>\n",
              "      <td>0.20</td>\n",
              "      <td>0.13</td>\n",
              "      <td>0.84</td>\n",
              "      <td>10:41pm - 7:54am</td>\n",
              "      <td>0.0</td>\n",
              "      <td>1.0</td>\n",
              "      <td>0.0</td>\n",
              "      <td>0.0</td>\n",
              "      <td>0.0</td>\n",
              "      <td>0.0</td>\n",
              "      <td>0.0</td>\n",
              "    </tr>\n",
              "    <tr>\n",
              "      <th>2</th>\n",
              "      <td>Tuesday</td>\n",
              "      <td>11/2/2021</td>\n",
              "      <td>83.0</td>\n",
              "      <td>477.0</td>\n",
              "      <td>0.12</td>\n",
              "      <td>0.18</td>\n",
              "      <td>0.90</td>\n",
              "      <td>10:40pm - 7:55am</td>\n",
              "      <td>0.0</td>\n",
              "      <td>0.0</td>\n",
              "      <td>0.0</td>\n",
              "      <td>0.0</td>\n",
              "      <td>0.0</td>\n",
              "      <td>1.0</td>\n",
              "      <td>0.0</td>\n",
              "    </tr>\n",
              "    <tr>\n",
              "      <th>3</th>\n",
              "      <td>Wednesday</td>\n",
              "      <td>11/3/2021</td>\n",
              "      <td>81.0</td>\n",
              "      <td>426.0</td>\n",
              "      <td>0.13</td>\n",
              "      <td>0.22</td>\n",
              "      <td>0.93</td>\n",
              "      <td>11:03pm - 7:16am</td>\n",
              "      <td>0.0</td>\n",
              "      <td>0.0</td>\n",
              "      <td>0.0</td>\n",
              "      <td>0.0</td>\n",
              "      <td>0.0</td>\n",
              "      <td>0.0</td>\n",
              "      <td>1.0</td>\n",
              "    </tr>\n",
              "    <tr>\n",
              "      <th>4</th>\n",
              "      <td>Thursday</td>\n",
              "      <td>11/4/2021</td>\n",
              "      <td>86.0</td>\n",
              "      <td>424.0</td>\n",
              "      <td>0.19</td>\n",
              "      <td>0.17</td>\n",
              "      <td>0.97</td>\n",
              "      <td>10:55pm - 6:56am</td>\n",
              "      <td>0.0</td>\n",
              "      <td>0.0</td>\n",
              "      <td>0.0</td>\n",
              "      <td>0.0</td>\n",
              "      <td>1.0</td>\n",
              "      <td>0.0</td>\n",
              "      <td>0.0</td>\n",
              "    </tr>\n",
              "    <tr>\n",
              "      <th>5</th>\n",
              "      <td>Friday</td>\n",
              "      <td>11/5/2021</td>\n",
              "      <td>81.0</td>\n",
              "      <td>564.0</td>\n",
              "      <td>0.17</td>\n",
              "      <td>0.15</td>\n",
              "      <td>0.66</td>\n",
              "      <td>10:14pm - 9:01am</td>\n",
              "      <td>1.0</td>\n",
              "      <td>0.0</td>\n",
              "      <td>0.0</td>\n",
              "      <td>0.0</td>\n",
              "      <td>0.0</td>\n",
              "      <td>0.0</td>\n",
              "      <td>0.0</td>\n",
              "    </tr>\n",
              "  </tbody>\n",
              "</table>\n",
              "</div>\n",
              "      <button class=\"colab-df-convert\" onclick=\"convertToInteractive('df-df847495-bb21-49e9-8295-7fad0e35673c')\"\n",
              "              title=\"Convert this dataframe to an interactive table.\"\n",
              "              style=\"display:none;\">\n",
              "        \n",
              "  <svg xmlns=\"http://www.w3.org/2000/svg\" height=\"24px\"viewBox=\"0 0 24 24\"\n",
              "       width=\"24px\">\n",
              "    <path d=\"M0 0h24v24H0V0z\" fill=\"none\"/>\n",
              "    <path d=\"M18.56 5.44l.94 2.06.94-2.06 2.06-.94-2.06-.94-.94-2.06-.94 2.06-2.06.94zm-11 1L8.5 8.5l.94-2.06 2.06-.94-2.06-.94L8.5 2.5l-.94 2.06-2.06.94zm10 10l.94 2.06.94-2.06 2.06-.94-2.06-.94-.94-2.06-.94 2.06-2.06.94z\"/><path d=\"M17.41 7.96l-1.37-1.37c-.4-.4-.92-.59-1.43-.59-.52 0-1.04.2-1.43.59L10.3 9.45l-7.72 7.72c-.78.78-.78 2.05 0 2.83L4 21.41c.39.39.9.59 1.41.59.51 0 1.02-.2 1.41-.59l7.78-7.78 2.81-2.81c.8-.78.8-2.07 0-2.86zM5.41 20L4 18.59l7.72-7.72 1.47 1.35L5.41 20z\"/>\n",
              "  </svg>\n",
              "      </button>\n",
              "      \n",
              "  <style>\n",
              "    .colab-df-container {\n",
              "      display:flex;\n",
              "      flex-wrap:wrap;\n",
              "      gap: 12px;\n",
              "    }\n",
              "\n",
              "    .colab-df-convert {\n",
              "      background-color: #E8F0FE;\n",
              "      border: none;\n",
              "      border-radius: 50%;\n",
              "      cursor: pointer;\n",
              "      display: none;\n",
              "      fill: #1967D2;\n",
              "      height: 32px;\n",
              "      padding: 0 0 0 0;\n",
              "      width: 32px;\n",
              "    }\n",
              "\n",
              "    .colab-df-convert:hover {\n",
              "      background-color: #E2EBFA;\n",
              "      box-shadow: 0px 1px 2px rgba(60, 64, 67, 0.3), 0px 1px 3px 1px rgba(60, 64, 67, 0.15);\n",
              "      fill: #174EA6;\n",
              "    }\n",
              "\n",
              "    [theme=dark] .colab-df-convert {\n",
              "      background-color: #3B4455;\n",
              "      fill: #D2E3FC;\n",
              "    }\n",
              "\n",
              "    [theme=dark] .colab-df-convert:hover {\n",
              "      background-color: #434B5C;\n",
              "      box-shadow: 0px 1px 3px 1px rgba(0, 0, 0, 0.15);\n",
              "      filter: drop-shadow(0px 1px 2px rgba(0, 0, 0, 0.3));\n",
              "      fill: #FFFFFF;\n",
              "    }\n",
              "  </style>\n",
              "\n",
              "      <script>\n",
              "        const buttonEl =\n",
              "          document.querySelector('#df-df847495-bb21-49e9-8295-7fad0e35673c button.colab-df-convert');\n",
              "        buttonEl.style.display =\n",
              "          google.colab.kernel.accessAllowed ? 'block' : 'none';\n",
              "\n",
              "        async function convertToInteractive(key) {\n",
              "          const element = document.querySelector('#df-df847495-bb21-49e9-8295-7fad0e35673c');\n",
              "          const dataTable =\n",
              "            await google.colab.kernel.invokeFunction('convertToInteractive',\n",
              "                                                     [key], {});\n",
              "          if (!dataTable) return;\n",
              "\n",
              "          const docLinkHtml = 'Like what you see? Visit the ' +\n",
              "            '<a target=\"_blank\" href=https://colab.research.google.com/notebooks/data_table.ipynb>data table notebook</a>'\n",
              "            + ' to learn more about interactive tables.';\n",
              "          element.innerHTML = '';\n",
              "          dataTable['output_type'] = 'display_data';\n",
              "          await google.colab.output.renderOutput(dataTable, element);\n",
              "          const docLink = document.createElement('div');\n",
              "          docLink.innerHTML = docLinkHtml;\n",
              "          element.appendChild(docLink);\n",
              "        }\n",
              "      </script>\n",
              "    </div>\n",
              "  </div>\n",
              "  "
            ]
          },
          "metadata": {},
          "execution_count": 242
        }
      ]
    },
    {
      "cell_type": "code",
      "source": [
        "# Performing Standardization of features\n",
        "\n",
        "from sklearn.preprocessing import StandardScaler\n",
        "\n",
        "sc = StandardScaler()\n",
        "\n",
        "transformed_features_0 = sc.fit_transform(nov_df.drop(['DAY OF WEEK', 'DATE', 'SLEEP TIME', 'SLEEP SCORE'], axis=1))\n",
        "print(transformed_features_0.shape)\n"
      ],
      "metadata": {
        "colab": {
          "base_uri": "https://localhost:8080/"
        },
        "id": "nPCGB_WTmAyg",
        "outputId": "201954c4-d951-4891-8627-e75186c3690c"
      },
      "execution_count": 243,
      "outputs": [
        {
          "output_type": "stream",
          "name": "stdout",
          "text": [
            "(30, 11)\n"
          ]
        }
      ]
    },
    {
      "cell_type": "code",
      "source": [
        "target_0 = nov_df['SLEEP SCORE']"
      ],
      "metadata": {
        "id": "PP6m2QvlnY9_"
      },
      "execution_count": 244,
      "outputs": []
    },
    {
      "cell_type": "markdown",
      "source": [
        "#Training initial model"
      ],
      "metadata": {
        "id": "nR37Jbsj90I9"
      }
    },
    {
      "cell_type": "code",
      "source": [
        "# Performing Linear Regression\n",
        "\n",
        "from sklearn.linear_model import LinearRegression\n",
        "\n",
        "lr = LinearRegression()\n",
        "lr.fit(transformed_features_0, target_0)"
      ],
      "metadata": {
        "colab": {
          "base_uri": "https://localhost:8080/"
        },
        "id": "WaGO1iKfntRl",
        "outputId": "cbfed609-c835-43d1-ba2b-b915a37c23f5"
      },
      "execution_count": 245,
      "outputs": [
        {
          "output_type": "execute_result",
          "data": {
            "text/plain": [
              "LinearRegression()"
            ]
          },
          "metadata": {},
          "execution_count": 245
        }
      ]
    },
    {
      "cell_type": "markdown",
      "source": [
        "#Streamlining the data prepocessing phase"
      ],
      "metadata": {
        "id": "VpjGXGTI95gN"
      }
    },
    {
      "cell_type": "code",
      "source": [
        "# defining the preprocessing function\n",
        "\n",
        "def preprocess(df):\n",
        "  df.dropna(inplace=True)\n",
        "  df.rename({\"{}\".format(df.columns[0]): \"DAY OF WEEK\"},axis=1, inplace=True)\n",
        "  percentage_columns_list = ['REM SLEEP', 'DEEP SLEEP', 'HEART RATE BELOW RESTING']\n",
        "  df[percentage_columns_list] = df[percentage_columns_list].apply(lambda x: x.str.strip(\"%\").astype(np.float32) / 100)\n",
        "  df['HOURS OF SLEEP'] = df['HOURS OF SLEEP'].apply(lambda x: float(x.split(\":\")[0]) * 60 + float(x.split(\":\")[1]))\n",
        "  day_encoder =  OneHotEncoder()\n",
        "  one_hot_encoded_features = day_encoder.fit_transform(df['DAY OF WEEK'].values.reshape(-1, 1)).toarray()\n",
        "  encoded_feat_df = pd.DataFrame(one_hot_encoded_features, columns=day_encoder.categories_, index=df.index)\n",
        "  df[day_encoder.categories_[0]] = encoded_feat_df\n",
        "  sc = StandardScaler()\n",
        "  transformed_features = sc.fit_transform(nov_df.drop(['DAY OF WEEK', 'DATE', 'SLEEP TIME', 'SLEEP SCORE'], axis=1))\n",
        "  target = df['SLEEP SCORE']\n",
        "\n",
        "  return transformed_features, target\n",
        "\n",
        "\n",
        "\n"
      ],
      "metadata": {
        "id": "bktkn1cSoTTM"
      },
      "execution_count": 246,
      "outputs": []
    },
    {
      "cell_type": "markdown",
      "source": [
        "#Testing various models"
      ],
      "metadata": {
        "id": "sCWIvLQw-AE9"
      }
    },
    {
      "cell_type": "code",
      "source": [
        "dec_df = pd.read_csv('/content/December Sleep data - Sheet1.csv')"
      ],
      "metadata": {
        "id": "T7xp6cEppgO8"
      },
      "execution_count": 247,
      "outputs": []
    },
    {
      "cell_type": "code",
      "source": [
        "transformed_features_1, target_1 = preprocess(dec_df)"
      ],
      "metadata": {
        "id": "b-CB9IvhrMup"
      },
      "execution_count": 248,
      "outputs": []
    },
    {
      "cell_type": "code",
      "source": [
        "predictions_1 = lr.predict(transformed_features_1)"
      ],
      "metadata": {
        "id": "n9WZdrXOrYSo"
      },
      "execution_count": 249,
      "outputs": []
    },
    {
      "cell_type": "code",
      "source": [
        "from sklearn.metrics import mean_squared_error"
      ],
      "metadata": {
        "id": "kZyPM0Gqttz_"
      },
      "execution_count": 250,
      "outputs": []
    },
    {
      "cell_type": "code",
      "source": [
        "RMSE_1 = np.sqrt(mean_squared_error(target_1[:-1], predictions_1))"
      ],
      "metadata": {
        "id": "pLPHtAa1tnbs"
      },
      "execution_count": 251,
      "outputs": []
    },
    {
      "cell_type": "code",
      "source": [
        "print(\"RMSE for Linear Regression on December data:\", RMSE_1)"
      ],
      "metadata": {
        "colab": {
          "base_uri": "https://localhost:8080/"
        },
        "id": "tupyZLcTtzz-",
        "outputId": "de90ebac-f953-473a-e6f9-c2fcdf540974"
      },
      "execution_count": 252,
      "outputs": [
        {
          "output_type": "stream",
          "name": "stdout",
          "text": [
            "RMSE for Linear Regression on December data: 4.6320667148063555\n"
          ]
        }
      ]
    },
    {
      "cell_type": "code",
      "source": [
        "jan_df = pd.read_csv('/content/January sleep data - Sheet1.csv')"
      ],
      "metadata": {
        "id": "6z4pvFAJsMMt"
      },
      "execution_count": 253,
      "outputs": []
    },
    {
      "cell_type": "code",
      "source": [
        "jan_df.rename({'HEART RATE UNDER RESTING': 'HEART RATE BELOW RESTING'}, axis=1, inplace=True)"
      ],
      "metadata": {
        "id": "u9CtGYhlu0b1"
      },
      "execution_count": 254,
      "outputs": []
    },
    {
      "cell_type": "code",
      "source": [
        "transformed_features_2, target_2 = preprocess(jan_df)"
      ],
      "metadata": {
        "id": "hBxMEkfvsNMg"
      },
      "execution_count": 255,
      "outputs": []
    },
    {
      "cell_type": "code",
      "source": [
        "predictions_2 = lr.predict(transformed_features_2)"
      ],
      "metadata": {
        "id": "_wFElsBNuaB-"
      },
      "execution_count": 256,
      "outputs": []
    },
    {
      "cell_type": "code",
      "source": [
        "RMSE_2 = np.sqrt(mean_squared_error(target_2[:-1], predictions_2))"
      ],
      "metadata": {
        "id": "Tcxv2hEQudcF"
      },
      "execution_count": 257,
      "outputs": []
    },
    {
      "cell_type": "code",
      "source": [
        "print(\"RMSE for Linear Regression on January data:\", RMSE_2)"
      ],
      "metadata": {
        "colab": {
          "base_uri": "https://localhost:8080/"
        },
        "id": "mUNLzQp0uo1d",
        "outputId": "c2bb3578-09b6-4809-c215-3f444fbef12d"
      },
      "execution_count": 258,
      "outputs": [
        {
          "output_type": "stream",
          "name": "stdout",
          "text": [
            "RMSE for Linear Regression on January data: 7.139869516614151\n"
          ]
        }
      ]
    },
    {
      "cell_type": "code",
      "source": [
        "# Performing linear regression with elastic net regularization\n",
        "from sklearn.linear_model import ElasticNet"
      ],
      "metadata": {
        "id": "dW1J0SNTvJ9U"
      },
      "execution_count": 259,
      "outputs": []
    },
    {
      "cell_type": "code",
      "source": [
        "en = ElasticNet()\n",
        "\n",
        "en.fit(transformed_features_0, target_0)"
      ],
      "metadata": {
        "colab": {
          "base_uri": "https://localhost:8080/"
        },
        "id": "w0582qu0vlYr",
        "outputId": "6b2436c0-e339-45f0-da54-7c4537802a9a"
      },
      "execution_count": 260,
      "outputs": [
        {
          "output_type": "execute_result",
          "data": {
            "text/plain": [
              "ElasticNet()"
            ]
          },
          "metadata": {},
          "execution_count": 260
        }
      ]
    },
    {
      "cell_type": "code",
      "source": [
        "predictions_3 = en.predict(transformed_features_1)"
      ],
      "metadata": {
        "id": "lV3QPDmlv1x9"
      },
      "execution_count": 261,
      "outputs": []
    },
    {
      "cell_type": "code",
      "source": [
        "RMSE_3 = np.sqrt(mean_squared_error(target_1[:-1], predictions_3))"
      ],
      "metadata": {
        "id": "1FjSqpv6wb19"
      },
      "execution_count": 262,
      "outputs": []
    },
    {
      "cell_type": "code",
      "source": [
        "print(\"RMSE for elastic net on December data:\", RMSE_3)"
      ],
      "metadata": {
        "colab": {
          "base_uri": "https://localhost:8080/"
        },
        "id": "bXXbaphuwmIL",
        "outputId": "7dd5b9e1-4d31-4a70-a387-271bd9cddc00"
      },
      "execution_count": 263,
      "outputs": [
        {
          "output_type": "stream",
          "name": "stdout",
          "text": [
            "RMSE for elastic net on December data: 4.261016539392224\n"
          ]
        }
      ]
    },
    {
      "cell_type": "code",
      "source": [
        "predictions_4 = en.predict(transformed_features_2)"
      ],
      "metadata": {
        "id": "jXrzg3RswsYL"
      },
      "execution_count": 264,
      "outputs": []
    },
    {
      "cell_type": "code",
      "source": [
        "RMSE_4 = np.sqrt(mean_squared_error(target_2[:-1], predictions_4))"
      ],
      "metadata": {
        "id": "r2JdZuTEwxwx"
      },
      "execution_count": 265,
      "outputs": []
    },
    {
      "cell_type": "code",
      "source": [
        "print(\"RMSE for elastic net on January data:\", RMSE_4)"
      ],
      "metadata": {
        "colab": {
          "base_uri": "https://localhost:8080/"
        },
        "id": "WAhO0eGBw0oi",
        "outputId": "b39dda40-e683-48a8-b210-f3d4944f08be"
      },
      "execution_count": 266,
      "outputs": [
        {
          "output_type": "stream",
          "name": "stdout",
          "text": [
            "RMSE for elastic net on January data: 6.0934689733975365\n"
          ]
        }
      ]
    },
    {
      "cell_type": "code",
      "source": [
        "from sklearn.ensemble import GradientBoostingRegressor"
      ],
      "metadata": {
        "id": "otjw87ORxBuz"
      },
      "execution_count": 267,
      "outputs": []
    },
    {
      "cell_type": "code",
      "source": [
        "gbr = GradientBoostingRegressor()\n",
        "\n",
        "gbr.fit(transformed_features_0, target_0)"
      ],
      "metadata": {
        "colab": {
          "base_uri": "https://localhost:8080/"
        },
        "id": "oOFNngpvxEhy",
        "outputId": "3ab59432-1eb5-412f-cfdf-dd07dbf00f1b"
      },
      "execution_count": 268,
      "outputs": [
        {
          "output_type": "execute_result",
          "data": {
            "text/plain": [
              "GradientBoostingRegressor()"
            ]
          },
          "metadata": {},
          "execution_count": 268
        }
      ]
    },
    {
      "cell_type": "code",
      "source": [
        "predictions_5 = gbr.predict(transformed_features_1)"
      ],
      "metadata": {
        "id": "OMMt256oxL6C"
      },
      "execution_count": 269,
      "outputs": []
    },
    {
      "cell_type": "code",
      "source": [
        "RMSE_5 = np.sqrt(mean_squared_error(target_1[:-1], predictions_5))"
      ],
      "metadata": {
        "id": "uFjK4j2zy01A"
      },
      "execution_count": 270,
      "outputs": []
    },
    {
      "cell_type": "code",
      "source": [
        "print(\"RMSE for Gradient Boost Regression on December data:\", RMSE_5)"
      ],
      "metadata": {
        "colab": {
          "base_uri": "https://localhost:8080/"
        },
        "id": "Vhx_pD37zICA",
        "outputId": "37d156e6-8d09-42e0-efb5-87ef05e4d69f"
      },
      "execution_count": 271,
      "outputs": [
        {
          "output_type": "stream",
          "name": "stdout",
          "text": [
            "RMSE for Gradient Boost Regression on December data: 4.537694662762146\n"
          ]
        }
      ]
    },
    {
      "cell_type": "code",
      "source": [
        "predictions_6 = gbr.predict(transformed_features_2)"
      ],
      "metadata": {
        "id": "sgXA4GMyzTQw"
      },
      "execution_count": 272,
      "outputs": []
    },
    {
      "cell_type": "code",
      "source": [
        "RMSE_6 = np.sqrt(mean_squared_error(target_2[:-1], predictions_6))"
      ],
      "metadata": {
        "id": "0gOqEtuOzd4H"
      },
      "execution_count": 273,
      "outputs": []
    },
    {
      "cell_type": "code",
      "source": [
        "print(\"RMSE for Gradient Boost Regression on January data:\", RMSE_6)"
      ],
      "metadata": {
        "colab": {
          "base_uri": "https://localhost:8080/"
        },
        "id": "jecWpQUJzhWo",
        "outputId": "44dc85b4-3d4b-4216-9e16-0e3b5c464ebd"
      },
      "execution_count": 274,
      "outputs": [
        {
          "output_type": "stream",
          "name": "stdout",
          "text": [
            "RMSE for Gradient Boost Regression on January data: 7.105847425305403\n"
          ]
        }
      ]
    },
    {
      "cell_type": "code",
      "source": [
        "from sklearn.svm import SVR\n",
        "\n",
        "svr = SVR()\n",
        "\n",
        "svr.fit(transformed_features_0, target_0)"
      ],
      "metadata": {
        "colab": {
          "base_uri": "https://localhost:8080/"
        },
        "id": "K6Sg3oRs0AGY",
        "outputId": "4f7755e2-c780-401c-9baf-8bd7bb64c60a"
      },
      "execution_count": 275,
      "outputs": [
        {
          "output_type": "execute_result",
          "data": {
            "text/plain": [
              "SVR()"
            ]
          },
          "metadata": {},
          "execution_count": 275
        }
      ]
    },
    {
      "cell_type": "code",
      "source": [
        "predictions_7 = svr.predict(transformed_features_1)"
      ],
      "metadata": {
        "id": "pbDgNwjc0VPe"
      },
      "execution_count": 276,
      "outputs": []
    },
    {
      "cell_type": "code",
      "source": [
        "RMSE_7 = np.sqrt(mean_squared_error(target_1[:-1], predictions_7))"
      ],
      "metadata": {
        "id": "rNCpFUQS0bsh"
      },
      "execution_count": 277,
      "outputs": []
    },
    {
      "cell_type": "code",
      "source": [
        "print(\"RMSE for Support Vector Machines Regression on December data:\", RMSE_7)"
      ],
      "metadata": {
        "colab": {
          "base_uri": "https://localhost:8080/"
        },
        "id": "ii98soAu0fgP",
        "outputId": "4b5ed2a7-2a45-45b8-91ac-c3d76c25dd95"
      },
      "execution_count": 278,
      "outputs": [
        {
          "output_type": "stream",
          "name": "stdout",
          "text": [
            "RMSE for Support Vector Machines Regression on December data: 4.16125864245606\n"
          ]
        }
      ]
    },
    {
      "cell_type": "code",
      "source": [
        "predictions_8 = svr.predict(transformed_features_2)"
      ],
      "metadata": {
        "id": "iFdQhQ1f0xzm"
      },
      "execution_count": 279,
      "outputs": []
    },
    {
      "cell_type": "code",
      "source": [
        "RMSE_8 = np.sqrt(mean_squared_error(target_2[:-1], predictions_8))"
      ],
      "metadata": {
        "id": "g-PiVCBY02Ut"
      },
      "execution_count": 280,
      "outputs": []
    },
    {
      "cell_type": "code",
      "source": [
        "print(\"RMSE for Support Vector Machines Regression on January data:\", RMSE_8)"
      ],
      "metadata": {
        "colab": {
          "base_uri": "https://localhost:8080/"
        },
        "id": "gy9YRPoO0_jW",
        "outputId": "b1d43eda-1b08-4ea0-fe1b-349bb74e4ec2"
      },
      "execution_count": 281,
      "outputs": [
        {
          "output_type": "stream",
          "name": "stdout",
          "text": [
            "RMSE for Support Vector Machines Regression on January data: 5.663490651343245\n"
          ]
        }
      ]
    },
    {
      "cell_type": "markdown",
      "source": [
        "#Comparing model Performances"
      ],
      "metadata": {
        "id": "mj4of4i31K2u"
      }
    },
    {
      "cell_type": "code",
      "source": [
        "import matplotlib.pyplot as plt\n",
        "import seaborn as sns"
      ],
      "metadata": {
        "id": "GW9wqsMX1Ka3"
      },
      "execution_count": 282,
      "outputs": []
    },
    {
      "cell_type": "code",
      "source": [
        "model_performances = pd.DataFrame({\n",
        "    \"model\": ['Linear Regression', 'Linear Regression', 'ElasticNet', 'ElasticNet', 'Gradient Boost Regressor', 'Gradient Boost Regressor',\n",
        "              'Support Vector Regressor', 'Support Vector Regressor'],\n",
        "    \"month\": ['December', 'January', 'December', 'January', 'December', 'January', 'December', 'January'],\n",
        "\n",
        "    \"RMSE\" : [RMSE_1, RMSE_2, RMSE_3, RMSE_4, RMSE_5, RMSE_6, RMSE_7, RMSE_8]\n",
        "}\n",
        ")"
      ],
      "metadata": {
        "id": "FcEbltLa1VrV"
      },
      "execution_count": 283,
      "outputs": []
    },
    {
      "cell_type": "code",
      "source": [
        "model_performances"
      ],
      "metadata": {
        "colab": {
          "base_uri": "https://localhost:8080/",
          "height": 300
        },
        "id": "gslfwCNf8jkv",
        "outputId": "1c6c04b2-26a9-427b-ab10-c5be842637de"
      },
      "execution_count": 284,
      "outputs": [
        {
          "output_type": "execute_result",
          "data": {
            "text/plain": [
              "                      model     month      RMSE\n",
              "0         Linear Regression  December  4.632067\n",
              "1         Linear Regression   January  7.139870\n",
              "2                ElasticNet  December  4.261017\n",
              "3                ElasticNet   January  6.093469\n",
              "4  Gradient Boost Regressor  December  4.537695\n",
              "5  Gradient Boost Regressor   January  7.105847\n",
              "6  Support Vector Regressor  December  4.161259\n",
              "7  Support Vector Regressor   January  5.663491"
            ],
            "text/html": [
              "\n",
              "  <div id=\"df-84bdd3f7-7445-452c-a44b-740eda8a9984\">\n",
              "    <div class=\"colab-df-container\">\n",
              "      <div>\n",
              "<style scoped>\n",
              "    .dataframe tbody tr th:only-of-type {\n",
              "        vertical-align: middle;\n",
              "    }\n",
              "\n",
              "    .dataframe tbody tr th {\n",
              "        vertical-align: top;\n",
              "    }\n",
              "\n",
              "    .dataframe thead th {\n",
              "        text-align: right;\n",
              "    }\n",
              "</style>\n",
              "<table border=\"1\" class=\"dataframe\">\n",
              "  <thead>\n",
              "    <tr style=\"text-align: right;\">\n",
              "      <th></th>\n",
              "      <th>model</th>\n",
              "      <th>month</th>\n",
              "      <th>RMSE</th>\n",
              "    </tr>\n",
              "  </thead>\n",
              "  <tbody>\n",
              "    <tr>\n",
              "      <th>0</th>\n",
              "      <td>Linear Regression</td>\n",
              "      <td>December</td>\n",
              "      <td>4.632067</td>\n",
              "    </tr>\n",
              "    <tr>\n",
              "      <th>1</th>\n",
              "      <td>Linear Regression</td>\n",
              "      <td>January</td>\n",
              "      <td>7.139870</td>\n",
              "    </tr>\n",
              "    <tr>\n",
              "      <th>2</th>\n",
              "      <td>ElasticNet</td>\n",
              "      <td>December</td>\n",
              "      <td>4.261017</td>\n",
              "    </tr>\n",
              "    <tr>\n",
              "      <th>3</th>\n",
              "      <td>ElasticNet</td>\n",
              "      <td>January</td>\n",
              "      <td>6.093469</td>\n",
              "    </tr>\n",
              "    <tr>\n",
              "      <th>4</th>\n",
              "      <td>Gradient Boost Regressor</td>\n",
              "      <td>December</td>\n",
              "      <td>4.537695</td>\n",
              "    </tr>\n",
              "    <tr>\n",
              "      <th>5</th>\n",
              "      <td>Gradient Boost Regressor</td>\n",
              "      <td>January</td>\n",
              "      <td>7.105847</td>\n",
              "    </tr>\n",
              "    <tr>\n",
              "      <th>6</th>\n",
              "      <td>Support Vector Regressor</td>\n",
              "      <td>December</td>\n",
              "      <td>4.161259</td>\n",
              "    </tr>\n",
              "    <tr>\n",
              "      <th>7</th>\n",
              "      <td>Support Vector Regressor</td>\n",
              "      <td>January</td>\n",
              "      <td>5.663491</td>\n",
              "    </tr>\n",
              "  </tbody>\n",
              "</table>\n",
              "</div>\n",
              "      <button class=\"colab-df-convert\" onclick=\"convertToInteractive('df-84bdd3f7-7445-452c-a44b-740eda8a9984')\"\n",
              "              title=\"Convert this dataframe to an interactive table.\"\n",
              "              style=\"display:none;\">\n",
              "        \n",
              "  <svg xmlns=\"http://www.w3.org/2000/svg\" height=\"24px\"viewBox=\"0 0 24 24\"\n",
              "       width=\"24px\">\n",
              "    <path d=\"M0 0h24v24H0V0z\" fill=\"none\"/>\n",
              "    <path d=\"M18.56 5.44l.94 2.06.94-2.06 2.06-.94-2.06-.94-.94-2.06-.94 2.06-2.06.94zm-11 1L8.5 8.5l.94-2.06 2.06-.94-2.06-.94L8.5 2.5l-.94 2.06-2.06.94zm10 10l.94 2.06.94-2.06 2.06-.94-2.06-.94-.94-2.06-.94 2.06-2.06.94z\"/><path d=\"M17.41 7.96l-1.37-1.37c-.4-.4-.92-.59-1.43-.59-.52 0-1.04.2-1.43.59L10.3 9.45l-7.72 7.72c-.78.78-.78 2.05 0 2.83L4 21.41c.39.39.9.59 1.41.59.51 0 1.02-.2 1.41-.59l7.78-7.78 2.81-2.81c.8-.78.8-2.07 0-2.86zM5.41 20L4 18.59l7.72-7.72 1.47 1.35L5.41 20z\"/>\n",
              "  </svg>\n",
              "      </button>\n",
              "      \n",
              "  <style>\n",
              "    .colab-df-container {\n",
              "      display:flex;\n",
              "      flex-wrap:wrap;\n",
              "      gap: 12px;\n",
              "    }\n",
              "\n",
              "    .colab-df-convert {\n",
              "      background-color: #E8F0FE;\n",
              "      border: none;\n",
              "      border-radius: 50%;\n",
              "      cursor: pointer;\n",
              "      display: none;\n",
              "      fill: #1967D2;\n",
              "      height: 32px;\n",
              "      padding: 0 0 0 0;\n",
              "      width: 32px;\n",
              "    }\n",
              "\n",
              "    .colab-df-convert:hover {\n",
              "      background-color: #E2EBFA;\n",
              "      box-shadow: 0px 1px 2px rgba(60, 64, 67, 0.3), 0px 1px 3px 1px rgba(60, 64, 67, 0.15);\n",
              "      fill: #174EA6;\n",
              "    }\n",
              "\n",
              "    [theme=dark] .colab-df-convert {\n",
              "      background-color: #3B4455;\n",
              "      fill: #D2E3FC;\n",
              "    }\n",
              "\n",
              "    [theme=dark] .colab-df-convert:hover {\n",
              "      background-color: #434B5C;\n",
              "      box-shadow: 0px 1px 3px 1px rgba(0, 0, 0, 0.15);\n",
              "      filter: drop-shadow(0px 1px 2px rgba(0, 0, 0, 0.3));\n",
              "      fill: #FFFFFF;\n",
              "    }\n",
              "  </style>\n",
              "\n",
              "      <script>\n",
              "        const buttonEl =\n",
              "          document.querySelector('#df-84bdd3f7-7445-452c-a44b-740eda8a9984 button.colab-df-convert');\n",
              "        buttonEl.style.display =\n",
              "          google.colab.kernel.accessAllowed ? 'block' : 'none';\n",
              "\n",
              "        async function convertToInteractive(key) {\n",
              "          const element = document.querySelector('#df-84bdd3f7-7445-452c-a44b-740eda8a9984');\n",
              "          const dataTable =\n",
              "            await google.colab.kernel.invokeFunction('convertToInteractive',\n",
              "                                                     [key], {});\n",
              "          if (!dataTable) return;\n",
              "\n",
              "          const docLinkHtml = 'Like what you see? Visit the ' +\n",
              "            '<a target=\"_blank\" href=https://colab.research.google.com/notebooks/data_table.ipynb>data table notebook</a>'\n",
              "            + ' to learn more about interactive tables.';\n",
              "          element.innerHTML = '';\n",
              "          dataTable['output_type'] = 'display_data';\n",
              "          await google.colab.output.renderOutput(dataTable, element);\n",
              "          const docLink = document.createElement('div');\n",
              "          docLink.innerHTML = docLinkHtml;\n",
              "          element.appendChild(docLink);\n",
              "        }\n",
              "      </script>\n",
              "    </div>\n",
              "  </div>\n",
              "  "
            ]
          },
          "metadata": {},
          "execution_count": 284
        }
      ]
    },
    {
      "cell_type": "code",
      "source": [
        "plt.figure(figsize=(12,8))\n",
        "sns.barplot(data=model_performances, y='model', x='RMSE', hue='month')"
      ],
      "metadata": {
        "colab": {
          "base_uri": "https://localhost:8080/",
          "height": 515
        },
        "id": "GH4pacFO74x2",
        "outputId": "2ca0062b-f416-48d2-cbcd-2ec7331e74ff"
      },
      "execution_count": 285,
      "outputs": [
        {
          "output_type": "execute_result",
          "data": {
            "text/plain": [
              "<matplotlib.axes._subplots.AxesSubplot at 0x7fe21b7f2a10>"
            ]
          },
          "metadata": {},
          "execution_count": 285
        },
        {
          "output_type": "display_data",
          "data": {
            "text/plain": [
              "<Figure size 864x576 with 1 Axes>"
            ],
            "image/png": "[encoded data removed]"
          },
          "metadata": {
            "needs_background": "light"
          }
        }
      ]
    }
  ]
}