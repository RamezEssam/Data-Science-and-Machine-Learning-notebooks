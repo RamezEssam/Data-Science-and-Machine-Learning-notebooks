{
 "cells": [
  {
   "cell_type": "code",
   "execution_count": 1,
   "id": "2c56e90f",
   "metadata": {},
   "outputs": [],
   "source": [
    "##%%capture\n",
    "##!pip install mediapipe"
   ]
  },
  {
   "cell_type": "code",
   "execution_count": 2,
   "id": "37ce8550",
   "metadata": {},
   "outputs": [],
   "source": [
    "##!pip install opencv-python"
   ]
  },
  {
   "cell_type": "code",
   "execution_count": 3,
   "id": "7820e25f",
   "metadata": {},
   "outputs": [],
   "source": [
    "import numpy as np\n",
    "import os,cv2,math,glob,random\n",
    "import scipy.io as sio\n",
    "from math import cos, sin\n",
    "from pathlib import Path\n",
    "import pandas as pd\n",
    "import mediapipe\n",
    "import warnings\n",
    "warnings.filterwarnings('ignore')"
   ]
  },
  {
   "cell_type": "code",
   "execution_count": 4,
   "id": "17a1c94e",
   "metadata": {},
   "outputs": [],
   "source": [
    "# Downloading the data\n",
    "##!wget http://www.cbsr.ia.ac.cn/users/xiangyuzhu/projects/3DDFA/Database/AFLW2000-3D.zip"
   ]
  },
  {
   "cell_type": "code",
   "execution_count": 5,
   "id": "364e2ea6",
   "metadata": {},
   "outputs": [],
   "source": [
    "# Loading AFLW2000 Data\n",
    "#!unzip ./AFLW2000-3D.zip"
   ]
  },
  {
   "cell_type": "code",
   "execution_count": 6,
   "id": "0a4fe877",
   "metadata": {},
   "outputs": [],
   "source": [
    "def draw_axis(img, pitch,yaw,roll, tdx=None, tdy=None, size = 100):\n",
    "\n",
    "    yaw = -yaw\n",
    "    if tdx != None and tdy != None:\n",
    "        tdx = tdx\n",
    "        tdy = tdy\n",
    "    else:\n",
    "        try:\n",
    "            results = faces.process(cv2.resize(img[:,:,::-1], dsize=(450,450,3)))\n",
    "            tdx = int(results.multi_face_landmarks[0].landmark[6].x * img.shape[1])\n",
    "            tdy = int(results.multi_face_landmarks[0].landmark[6].y * img.shape[0])\n",
    "        except:\n",
    "            height, width = img.shape[:2]\n",
    "            tdx = width / 2\n",
    "            tdy = height / 2\n",
    "            \n",
    "\n",
    "       # height, width = img.shape[:2]\n",
    "       # tdx = width / 2\n",
    "       # tdy = height / 2\n",
    "\n",
    "    # X-Axis pointing to right. drawn in red\n",
    "    x1 = size * (cos(yaw) * cos(roll)) + tdx\n",
    "    y1 = size * (cos(pitch) * sin(roll) + cos(roll) * sin(pitch) * sin(yaw)) + tdy\n",
    "\n",
    "    # Y-Axis | drawn in green\n",
    "    #        v\n",
    "    x2 = size * (-cos(yaw) * sin(roll)) + tdx\n",
    "    y2 = size * (cos(pitch) * cos(roll) - sin(pitch) * sin(yaw) * sin(roll)) + tdy\n",
    "\n",
    "    # Z-Axis (out of the screen) drawn in blue\n",
    "    x3 = size * (sin(yaw)) + tdx\n",
    "    y3 = size * (-cos(yaw) * sin(pitch)) + tdy\n",
    "\n",
    "    cv2.line(img, (int(tdx), int(tdy)), (int(x1),int(y1)),(0,0,255),3)\n",
    "    cv2.line(img, (int(tdx), int(tdy)), (int(x2),int(y2)),(0,255,0),3)\n",
    "    cv2.line(img, (int(tdx), int(tdy)), (int(x3),int(y3)),(255,0,0),2)\n",
    "\n",
    "    return img"
   ]
  },
  {
   "cell_type": "code",
   "execution_count": 7,
   "id": "1ad2cc72",
   "metadata": {},
   "outputs": [
    {
     "name": "stderr",
     "output_type": "stream",
     "text": [
      "INFO: Created TensorFlow Lite XNNPACK delegate for CPU.\n"
     ]
    }
   ],
   "source": [
    "# choosing random image\n",
    "random_file = 'image00058'\n",
    "\n",
    "faceModule = mediapipe.solutions.face_mesh\n",
    "# loading image and its correspinding mat file\n",
    "with faceModule.FaceMesh(static_image_mode=True) as faces:\n",
    "    # loading the image\n",
    "    image = cv2.imread('./AFLW2000/'+random_file+'.jpg')\n",
    "    # processing the face to extract the landmark points (468 point) for each x,y,z\n",
    "    results = faces.process(cv2.cvtColor(image, cv2.COLOR_BGR2RGB))\n",
    "    if results.multi_face_landmarks != None: \n",
    "      # looping over the faces in the image\n",
    "      for face in results.multi_face_landmarks:\n",
    "          for landmark in face.landmark:\n",
    "              x = landmark.x\n",
    "              y = landmark.y\n",
    "              # note: the x and y values are scaled to the their width and height so we will get back their actual value in the image\n",
    "              shape = image.shape \n",
    "              relative_x = int(x * shape[1])\n",
    "              relative_y = int(y * shape[0])\n",
    "              # cv2.putText(image, str(relative_y), (int(relative_x),int(relative_y)), cv2.FONT_HERSHEY_SIMPLEX, 0.4, (0,255,0), 2)\n",
    "              cv2.circle(image, (relative_x, relative_y), radius=1, color=(0, 255, 0), thickness=2)\n",
    "      cv2.imshow(winname='image',mat=image)\n",
    "      cv2.waitKey(0)\n",
    "      cv2.destroyAllWindows()"
   ]
  },
  {
   "cell_type": "code",
   "execution_count": 8,
   "id": "33fa4893",
   "metadata": {},
   "outputs": [],
   "source": [
    "image = cv2.imread('./AFLW2000/'+random_file+'.jpg')\n",
    "# loading the mat file to extract the 3 angels of the face (pitch,yaw,roll)\n",
    "mat_file = sio.loadmat('./AFLW2000/'+random_file+'.mat')\n",
    "#extracting the labels 3 angels\n",
    "pose_para = mat_file[\"Pose_Para\"][0][:3]\n",
    "pitch = pose_para[0]\n",
    "yaw = pose_para[1]\n",
    "roll = pose_para[2]\n",
    "cv2.imshow(\"image\",draw_axis(image,pitch,yaw,roll))\n",
    "\n",
    "cv2.waitKey(0)\n",
    "\n",
    "cv2.destroyAllWindows()"
   ]
  },
  {
   "cell_type": "code",
   "execution_count": 9,
   "id": "8df82d15",
   "metadata": {},
   "outputs": [],
   "source": [
    "imgs = [Path(f).stem for f in glob.glob(\"./AFLW2000/*.jpg\")]"
   ]
  },
  {
   "cell_type": "code",
   "execution_count": 10,
   "id": "4ad96db8",
   "metadata": {},
   "outputs": [
    {
     "data": {
      "text/plain": [
       "2000"
      ]
     },
     "execution_count": 10,
     "metadata": {},
     "output_type": "execute_result"
    }
   ],
   "source": [
    "len(imgs)"
   ]
  },
  {
   "cell_type": "code",
   "execution_count": 11,
   "id": "65d43a36",
   "metadata": {},
   "outputs": [],
   "source": [
    "# Generating the data matrix from the images using mediapipe\n",
    "\n",
    "ypr_values = []\n",
    "x_points = []\n",
    "y_points = []\n",
    "with faceModule.FaceMesh(static_image_mode=True) as faces:\n",
    "    for img in imgs:\n",
    "        x_points_img = []\n",
    "        y_points_img = []\n",
    "        img_arr = cv2.imread(\"./AFLW2000/\" + img + \".jpg\")\n",
    "        img_mat = sio.loadmat(\"./AFLW2000/\" + img + \".mat\")\n",
    "        pose_para = img_mat[\"Pose_Para\"][0][:3]\n",
    "        pitch = pose_para[0]\n",
    "        yaw = pose_para[1]\n",
    "        roll = pose_para[2]\n",
    "        ypr = [yaw, pitch, roll]\n",
    "        ypr_values.append(ypr)\n",
    "        results = faces.process(cv2.cvtColor(img_arr, cv2.COLOR_BGR2RGB))\n",
    "        if results.multi_face_landmarks != None:\n",
    "            for face in results.multi_face_landmarks:\n",
    "                for landmark in face.landmark:\n",
    "                    x_points_img.append(landmark.x)\n",
    "                    y_points_img.append(landmark.y)\n",
    "            \n",
    "        x_points.append(x_points_img)\n",
    "        y_points.append(y_points_img)    "
   ]
  },
  {
   "cell_type": "code",
   "execution_count": 12,
   "id": "a16bab8a",
   "metadata": {},
   "outputs": [
    {
     "data": {
      "text/plain": [
       "(2000, 2000)"
      ]
     },
     "execution_count": 12,
     "metadata": {},
     "output_type": "execute_result"
    }
   ],
   "source": [
    "len(x_points), len(y_points)"
   ]
  },
  {
   "cell_type": "code",
   "execution_count": 13,
   "id": "caac8299",
   "metadata": {},
   "outputs": [
    {
     "data": {
      "text/plain": [
       "(468, 468)"
      ]
     },
     "execution_count": 13,
     "metadata": {},
     "output_type": "execute_result"
    }
   ],
   "source": [
    "len(x_points[0]), len(y_points[0])"
   ]
  },
  {
   "cell_type": "code",
   "execution_count": 14,
   "id": "96e416cd",
   "metadata": {},
   "outputs": [],
   "source": [
    "X = np.zeros((2000, 936))"
   ]
  },
  {
   "cell_type": "code",
   "execution_count": 15,
   "id": "51959de8",
   "metadata": {},
   "outputs": [
    {
     "data": {
      "text/plain": [
       "(936,)"
      ]
     },
     "execution_count": 15,
     "metadata": {},
     "output_type": "execute_result"
    }
   ],
   "source": [
    "np.array(x_points[0] + y_points[0]).shape"
   ]
  },
  {
   "cell_type": "code",
   "execution_count": 16,
   "id": "bab17693",
   "metadata": {},
   "outputs": [],
   "source": [
    "for i in range(X.shape[0]):\n",
    "    try:\n",
    "        X[i, :] = np.array(x_points[i] + y_points[i])\n",
    "    except:\n",
    "        pass"
   ]
  },
  {
   "cell_type": "code",
   "execution_count": 17,
   "id": "c7d7a91a",
   "metadata": {},
   "outputs": [],
   "source": [
    "data = pd.DataFrame(data = X, columns = [\"feat{}\".format(i+1) for i in range(936)])"
   ]
  },
  {
   "cell_type": "code",
   "execution_count": 18,
   "id": "84550559",
   "metadata": {},
   "outputs": [],
   "source": [
    "\n",
    "ypr_values = np.array(ypr_values)"
   ]
  },
  {
   "cell_type": "code",
   "execution_count": 19,
   "id": "f7f2103e",
   "metadata": {},
   "outputs": [
    {
     "data": {
      "text/plain": [
       "(2000, 3)"
      ]
     },
     "execution_count": 19,
     "metadata": {},
     "output_type": "execute_result"
    }
   ],
   "source": [
    "ypr_values.shape"
   ]
  },
  {
   "cell_type": "code",
   "execution_count": 20,
   "id": "baa3ba85",
   "metadata": {},
   "outputs": [],
   "source": [
    "data[['yaw', 'pitch', 'roll']] = ypr_values"
   ]
  },
  {
   "cell_type": "code",
   "execution_count": 21,
   "id": "6e2854dc",
   "metadata": {},
   "outputs": [
    {
     "data": {
      "text/html": [
       "<div>\n",
       "<style scoped>\n",
       "    .dataframe tbody tr th:only-of-type {\n",
       "        vertical-align: middle;\n",
       "    }\n",
       "\n",
       "    .dataframe tbody tr th {\n",
       "        vertical-align: top;\n",
       "    }\n",
       "\n",
       "    .dataframe thead th {\n",
       "        text-align: right;\n",
       "    }\n",
       "</style>\n",
       "<table border=\"1\" class=\"dataframe\">\n",
       "  <thead>\n",
       "    <tr style=\"text-align: right;\">\n",
       "      <th></th>\n",
       "      <th>feat1</th>\n",
       "      <th>feat2</th>\n",
       "      <th>feat3</th>\n",
       "      <th>feat4</th>\n",
       "      <th>feat5</th>\n",
       "      <th>feat6</th>\n",
       "      <th>feat7</th>\n",
       "      <th>feat8</th>\n",
       "      <th>feat9</th>\n",
       "      <th>feat10</th>\n",
       "      <th>...</th>\n",
       "      <th>feat930</th>\n",
       "      <th>feat931</th>\n",
       "      <th>feat932</th>\n",
       "      <th>feat933</th>\n",
       "      <th>feat934</th>\n",
       "      <th>feat935</th>\n",
       "      <th>feat936</th>\n",
       "      <th>yaw</th>\n",
       "      <th>pitch</th>\n",
       "      <th>roll</th>\n",
       "    </tr>\n",
       "  </thead>\n",
       "  <tbody>\n",
       "    <tr>\n",
       "      <th>0</th>\n",
       "      <td>0.514975</td>\n",
       "      <td>0.535639</td>\n",
       "      <td>0.519629</td>\n",
       "      <td>0.519303</td>\n",
       "      <td>0.539307</td>\n",
       "      <td>0.538134</td>\n",
       "      <td>0.529583</td>\n",
       "      <td>0.385523</td>\n",
       "      <td>0.529236</td>\n",
       "      <td>0.532291</td>\n",
       "      <td>...</td>\n",
       "      <td>0.631829</td>\n",
       "      <td>0.634174</td>\n",
       "      <td>0.504854</td>\n",
       "      <td>0.511276</td>\n",
       "      <td>0.516391</td>\n",
       "      <td>0.492302</td>\n",
       "      <td>0.488564</td>\n",
       "      <td>-0.347654</td>\n",
       "      <td>-0.238109</td>\n",
       "      <td>0.148465</td>\n",
       "    </tr>\n",
       "    <tr>\n",
       "      <th>1</th>\n",
       "      <td>0.508752</td>\n",
       "      <td>0.468954</td>\n",
       "      <td>0.493427</td>\n",
       "      <td>0.444709</td>\n",
       "      <td>0.459859</td>\n",
       "      <td>0.455062</td>\n",
       "      <td>0.448820</td>\n",
       "      <td>0.381151</td>\n",
       "      <td>0.432148</td>\n",
       "      <td>0.420305</td>\n",
       "      <td>...</td>\n",
       "      <td>0.636488</td>\n",
       "      <td>0.637607</td>\n",
       "      <td>0.501288</td>\n",
       "      <td>0.511819</td>\n",
       "      <td>0.519926</td>\n",
       "      <td>0.449698</td>\n",
       "      <td>0.435853</td>\n",
       "      <td>0.213283</td>\n",
       "      <td>-0.364073</td>\n",
       "      <td>-0.491296</td>\n",
       "    </tr>\n",
       "    <tr>\n",
       "      <th>2</th>\n",
       "      <td>0.523921</td>\n",
       "      <td>0.500583</td>\n",
       "      <td>0.510641</td>\n",
       "      <td>0.468734</td>\n",
       "      <td>0.494248</td>\n",
       "      <td>0.487617</td>\n",
       "      <td>0.473420</td>\n",
       "      <td>0.347366</td>\n",
       "      <td>0.460440</td>\n",
       "      <td>0.452428</td>\n",
       "      <td>...</td>\n",
       "      <td>0.581764</td>\n",
       "      <td>0.589793</td>\n",
       "      <td>0.472434</td>\n",
       "      <td>0.477826</td>\n",
       "      <td>0.479639</td>\n",
       "      <td>0.442669</td>\n",
       "      <td>0.431431</td>\n",
       "      <td>0.125325</td>\n",
       "      <td>0.117923</td>\n",
       "      <td>-0.295807</td>\n",
       "    </tr>\n",
       "    <tr>\n",
       "      <th>3</th>\n",
       "      <td>0.503006</td>\n",
       "      <td>0.494408</td>\n",
       "      <td>0.499270</td>\n",
       "      <td>0.476528</td>\n",
       "      <td>0.493112</td>\n",
       "      <td>0.492547</td>\n",
       "      <td>0.492994</td>\n",
       "      <td>0.362106</td>\n",
       "      <td>0.492332</td>\n",
       "      <td>0.491318</td>\n",
       "      <td>...</td>\n",
       "      <td>0.597537</td>\n",
       "      <td>0.602776</td>\n",
       "      <td>0.483326</td>\n",
       "      <td>0.488594</td>\n",
       "      <td>0.491245</td>\n",
       "      <td>0.474374</td>\n",
       "      <td>0.466441</td>\n",
       "      <td>0.057434</td>\n",
       "      <td>0.151753</td>\n",
       "      <td>-0.052361</td>\n",
       "    </tr>\n",
       "    <tr>\n",
       "      <th>4</th>\n",
       "      <td>0.511498</td>\n",
       "      <td>0.490996</td>\n",
       "      <td>0.503665</td>\n",
       "      <td>0.472855</td>\n",
       "      <td>0.487056</td>\n",
       "      <td>0.486188</td>\n",
       "      <td>0.488955</td>\n",
       "      <td>0.366738</td>\n",
       "      <td>0.484404</td>\n",
       "      <td>0.479625</td>\n",
       "      <td>...</td>\n",
       "      <td>0.646516</td>\n",
       "      <td>0.649855</td>\n",
       "      <td>0.493819</td>\n",
       "      <td>0.500156</td>\n",
       "      <td>0.505251</td>\n",
       "      <td>0.466047</td>\n",
       "      <td>0.453510</td>\n",
       "      <td>0.194847</td>\n",
       "      <td>-0.126741</td>\n",
       "      <td>-0.149632</td>\n",
       "    </tr>\n",
       "    <tr>\n",
       "      <th>...</th>\n",
       "      <td>...</td>\n",
       "      <td>...</td>\n",
       "      <td>...</td>\n",
       "      <td>...</td>\n",
       "      <td>...</td>\n",
       "      <td>...</td>\n",
       "      <td>...</td>\n",
       "      <td>...</td>\n",
       "      <td>...</td>\n",
       "      <td>...</td>\n",
       "      <td>...</td>\n",
       "      <td>...</td>\n",
       "      <td>...</td>\n",
       "      <td>...</td>\n",
       "      <td>...</td>\n",
       "      <td>...</td>\n",
       "      <td>...</td>\n",
       "      <td>...</td>\n",
       "      <td>...</td>\n",
       "      <td>...</td>\n",
       "      <td>...</td>\n",
       "    </tr>\n",
       "    <tr>\n",
       "      <th>1995</th>\n",
       "      <td>0.468223</td>\n",
       "      <td>0.420989</td>\n",
       "      <td>0.461647</td>\n",
       "      <td>0.423274</td>\n",
       "      <td>0.414745</td>\n",
       "      <td>0.420752</td>\n",
       "      <td>0.446074</td>\n",
       "      <td>0.418327</td>\n",
       "      <td>0.445505</td>\n",
       "      <td>0.437089</td>\n",
       "      <td>...</td>\n",
       "      <td>0.610119</td>\n",
       "      <td>0.612023</td>\n",
       "      <td>0.458667</td>\n",
       "      <td>0.469096</td>\n",
       "      <td>0.477510</td>\n",
       "      <td>0.425301</td>\n",
       "      <td>0.412821</td>\n",
       "      <td>0.943137</td>\n",
       "      <td>-0.339877</td>\n",
       "      <td>-0.492823</td>\n",
       "    </tr>\n",
       "    <tr>\n",
       "      <th>1996</th>\n",
       "      <td>0.565490</td>\n",
       "      <td>0.602843</td>\n",
       "      <td>0.558723</td>\n",
       "      <td>0.566782</td>\n",
       "      <td>0.605669</td>\n",
       "      <td>0.592987</td>\n",
       "      <td>0.548913</td>\n",
       "      <td>0.417403</td>\n",
       "      <td>0.537847</td>\n",
       "      <td>0.541224</td>\n",
       "      <td>...</td>\n",
       "      <td>0.618065</td>\n",
       "      <td>0.623245</td>\n",
       "      <td>0.496907</td>\n",
       "      <td>0.504872</td>\n",
       "      <td>0.510608</td>\n",
       "      <td>0.480970</td>\n",
       "      <td>0.472296</td>\n",
       "      <td>-0.919017</td>\n",
       "      <td>-0.101006</td>\n",
       "      <td>-0.099479</td>\n",
       "    </tr>\n",
       "    <tr>\n",
       "      <th>1997</th>\n",
       "      <td>0.564053</td>\n",
       "      <td>0.570461</td>\n",
       "      <td>0.554711</td>\n",
       "      <td>0.524573</td>\n",
       "      <td>0.566011</td>\n",
       "      <td>0.552306</td>\n",
       "      <td>0.511909</td>\n",
       "      <td>0.362014</td>\n",
       "      <td>0.491613</td>\n",
       "      <td>0.485351</td>\n",
       "      <td>...</td>\n",
       "      <td>0.585393</td>\n",
       "      <td>0.591526</td>\n",
       "      <td>0.497967</td>\n",
       "      <td>0.501860</td>\n",
       "      <td>0.503224</td>\n",
       "      <td>0.475402</td>\n",
       "      <td>0.468079</td>\n",
       "      <td>-0.527796</td>\n",
       "      <td>0.206154</td>\n",
       "      <td>-0.310925</td>\n",
       "    </tr>\n",
       "    <tr>\n",
       "      <th>1998</th>\n",
       "      <td>0.547263</td>\n",
       "      <td>0.603300</td>\n",
       "      <td>0.557967</td>\n",
       "      <td>0.595140</td>\n",
       "      <td>0.612713</td>\n",
       "      <td>0.611146</td>\n",
       "      <td>0.596982</td>\n",
       "      <td>0.487875</td>\n",
       "      <td>0.606692</td>\n",
       "      <td>0.618657</td>\n",
       "      <td>...</td>\n",
       "      <td>0.672409</td>\n",
       "      <td>0.670938</td>\n",
       "      <td>0.550959</td>\n",
       "      <td>0.557638</td>\n",
       "      <td>0.565010</td>\n",
       "      <td>0.548018</td>\n",
       "      <td>0.539153</td>\n",
       "      <td>-1.028589</td>\n",
       "      <td>-1.083322</td>\n",
       "      <td>1.162738</td>\n",
       "    </tr>\n",
       "    <tr>\n",
       "      <th>1999</th>\n",
       "      <td>0.514764</td>\n",
       "      <td>0.520596</td>\n",
       "      <td>0.514359</td>\n",
       "      <td>0.503985</td>\n",
       "      <td>0.522006</td>\n",
       "      <td>0.521059</td>\n",
       "      <td>0.515858</td>\n",
       "      <td>0.388078</td>\n",
       "      <td>0.515336</td>\n",
       "      <td>0.516642</td>\n",
       "      <td>...</td>\n",
       "      <td>0.627005</td>\n",
       "      <td>0.628812</td>\n",
       "      <td>0.484466</td>\n",
       "      <td>0.492844</td>\n",
       "      <td>0.499570</td>\n",
       "      <td>0.469429</td>\n",
       "      <td>0.465434</td>\n",
       "      <td>-0.075385</td>\n",
       "      <td>-0.187202</td>\n",
       "      <td>-0.008907</td>\n",
       "    </tr>\n",
       "  </tbody>\n",
       "</table>\n",
       "<p>2000 rows × 939 columns</p>\n",
       "</div>"
      ],
      "text/plain": [
       "         feat1     feat2     feat3     feat4     feat5     feat6     feat7  \\\n",
       "0     0.514975  0.535639  0.519629  0.519303  0.539307  0.538134  0.529583   \n",
       "1     0.508752  0.468954  0.493427  0.444709  0.459859  0.455062  0.448820   \n",
       "2     0.523921  0.500583  0.510641  0.468734  0.494248  0.487617  0.473420   \n",
       "3     0.503006  0.494408  0.499270  0.476528  0.493112  0.492547  0.492994   \n",
       "4     0.511498  0.490996  0.503665  0.472855  0.487056  0.486188  0.488955   \n",
       "...        ...       ...       ...       ...       ...       ...       ...   \n",
       "1995  0.468223  0.420989  0.461647  0.423274  0.414745  0.420752  0.446074   \n",
       "1996  0.565490  0.602843  0.558723  0.566782  0.605669  0.592987  0.548913   \n",
       "1997  0.564053  0.570461  0.554711  0.524573  0.566011  0.552306  0.511909   \n",
       "1998  0.547263  0.603300  0.557967  0.595140  0.612713  0.611146  0.596982   \n",
       "1999  0.514764  0.520596  0.514359  0.503985  0.522006  0.521059  0.515858   \n",
       "\n",
       "         feat8     feat9    feat10  ...   feat930   feat931   feat932  \\\n",
       "0     0.385523  0.529236  0.532291  ...  0.631829  0.634174  0.504854   \n",
       "1     0.381151  0.432148  0.420305  ...  0.636488  0.637607  0.501288   \n",
       "2     0.347366  0.460440  0.452428  ...  0.581764  0.589793  0.472434   \n",
       "3     0.362106  0.492332  0.491318  ...  0.597537  0.602776  0.483326   \n",
       "4     0.366738  0.484404  0.479625  ...  0.646516  0.649855  0.493819   \n",
       "...        ...       ...       ...  ...       ...       ...       ...   \n",
       "1995  0.418327  0.445505  0.437089  ...  0.610119  0.612023  0.458667   \n",
       "1996  0.417403  0.537847  0.541224  ...  0.618065  0.623245  0.496907   \n",
       "1997  0.362014  0.491613  0.485351  ...  0.585393  0.591526  0.497967   \n",
       "1998  0.487875  0.606692  0.618657  ...  0.672409  0.670938  0.550959   \n",
       "1999  0.388078  0.515336  0.516642  ...  0.627005  0.628812  0.484466   \n",
       "\n",
       "       feat933   feat934   feat935   feat936       yaw     pitch      roll  \n",
       "0     0.511276  0.516391  0.492302  0.488564 -0.347654 -0.238109  0.148465  \n",
       "1     0.511819  0.519926  0.449698  0.435853  0.213283 -0.364073 -0.491296  \n",
       "2     0.477826  0.479639  0.442669  0.431431  0.125325  0.117923 -0.295807  \n",
       "3     0.488594  0.491245  0.474374  0.466441  0.057434  0.151753 -0.052361  \n",
       "4     0.500156  0.505251  0.466047  0.453510  0.194847 -0.126741 -0.149632  \n",
       "...        ...       ...       ...       ...       ...       ...       ...  \n",
       "1995  0.469096  0.477510  0.425301  0.412821  0.943137 -0.339877 -0.492823  \n",
       "1996  0.504872  0.510608  0.480970  0.472296 -0.919017 -0.101006 -0.099479  \n",
       "1997  0.501860  0.503224  0.475402  0.468079 -0.527796  0.206154 -0.310925  \n",
       "1998  0.557638  0.565010  0.548018  0.539153 -1.028589 -1.083322  1.162738  \n",
       "1999  0.492844  0.499570  0.469429  0.465434 -0.075385 -0.187202 -0.008907  \n",
       "\n",
       "[2000 rows x 939 columns]"
      ]
     },
     "execution_count": 21,
     "metadata": {},
     "output_type": "execute_result"
    }
   ],
   "source": [
    "data\n",
    "    "
   ]
  },
  {
   "cell_type": "code",
   "execution_count": 22,
   "id": "0c87d392",
   "metadata": {},
   "outputs": [],
   "source": [
    "from sklearn.preprocessing import MinMaxScaler, StandardScaler, RobustScaler\n",
    "from sklearn.model_selection import train_test_split\n",
    "from sklearn.ensemble import RandomForestRegressor\n",
    "from sklearn.ensemble import AdaBoostRegressor\n",
    "from sklearn.ensemble import GradientBoostingRegressor\n",
    "from sklearn.svm import SVR\n",
    "from sklearn.multioutput import MultiOutputRegressor"
   ]
  },
  {
   "cell_type": "code",
   "execution_count": 23,
   "id": "7c29c5aa",
   "metadata": {},
   "outputs": [],
   "source": [
    "from xgboost import XGBRFRegressor"
   ]
  },
  {
   "cell_type": "code",
   "execution_count": 24,
   "id": "010e9de3",
   "metadata": {},
   "outputs": [],
   "source": [
    "from sklearn.decomposition import PCA"
   ]
  },
  {
   "cell_type": "code",
   "execution_count": 25,
   "id": "6d1c5728",
   "metadata": {},
   "outputs": [],
   "source": [
    "import matplotlib.pyplot as plt\n",
    "import seaborn as sns"
   ]
  },
  {
   "cell_type": "code",
   "execution_count": 26,
   "id": "3679981a",
   "metadata": {},
   "outputs": [],
   "source": [
    "features = data.drop(columns=['yaw', 'pitch', 'roll']).values\n",
    "targets = data[['yaw', 'pitch', 'roll']].values"
   ]
  },
  {
   "cell_type": "markdown",
   "id": "be13294c",
   "metadata": {},
   "source": [
    "### Support Vector Machines baseline Model"
   ]
  },
  {
   "cell_type": "code",
   "execution_count": 27,
   "id": "086e0a43",
   "metadata": {},
   "outputs": [],
   "source": [
    "x_train, x_val, y_train, y_val = train_test_split(features, targets, random_state=42, test_size=0.1, shuffle=True)"
   ]
  },
  {
   "cell_type": "code",
   "execution_count": 28,
   "id": "bbd34450",
   "metadata": {},
   "outputs": [
    {
     "data": {
      "text/plain": [
       "((1800, 936), (1800, 3))"
      ]
     },
     "execution_count": 28,
     "metadata": {},
     "output_type": "execute_result"
    }
   ],
   "source": [
    "x_train.shape, y_train.shape"
   ]
  },
  {
   "cell_type": "code",
   "execution_count": 29,
   "id": "684ac3cc",
   "metadata": {},
   "outputs": [],
   "source": [
    "svm_model = SVR()"
   ]
  },
  {
   "cell_type": "code",
   "execution_count": 30,
   "id": "af8eda4d",
   "metadata": {},
   "outputs": [],
   "source": [
    "multi_1 = MultiOutputRegressor(svm_model)"
   ]
  },
  {
   "cell_type": "code",
   "execution_count": 31,
   "id": "a647887c",
   "metadata": {},
   "outputs": [
    {
     "data": {
      "text/html": [
       "<style>#sk-container-id-1 {color: black;background-color: white;}#sk-container-id-1 pre{padding: 0;}#sk-container-id-1 div.sk-toggleable {background-color: white;}#sk-container-id-1 label.sk-toggleable__label {cursor: pointer;display: block;width: 100%;margin-bottom: 0;padding: 0.3em;box-sizing: border-box;text-align: center;}#sk-container-id-1 label.sk-toggleable__label-arrow:before {content: \"▸\";float: left;margin-right: 0.25em;color: #696969;}#sk-container-id-1 label.sk-toggleable__label-arrow:hover:before {color: black;}#sk-container-id-1 div.sk-estimator:hover label.sk-toggleable__label-arrow:before {color: black;}#sk-container-id-1 div.sk-toggleable__content {max-height: 0;max-width: 0;overflow: hidden;text-align: left;background-color: #f0f8ff;}#sk-container-id-1 div.sk-toggleable__content pre {margin: 0.2em;color: black;border-radius: 0.25em;background-color: #f0f8ff;}#sk-container-id-1 input.sk-toggleable__control:checked~div.sk-toggleable__content {max-height: 200px;max-width: 100%;overflow: auto;}#sk-container-id-1 input.sk-toggleable__control:checked~label.sk-toggleable__label-arrow:before {content: \"▾\";}#sk-container-id-1 div.sk-estimator input.sk-toggleable__control:checked~label.sk-toggleable__label {background-color: #d4ebff;}#sk-container-id-1 div.sk-label input.sk-toggleable__control:checked~label.sk-toggleable__label {background-color: #d4ebff;}#sk-container-id-1 input.sk-hidden--visually {border: 0;clip: rect(1px 1px 1px 1px);clip: rect(1px, 1px, 1px, 1px);height: 1px;margin: -1px;overflow: hidden;padding: 0;position: absolute;width: 1px;}#sk-container-id-1 div.sk-estimator {font-family: monospace;background-color: #f0f8ff;border: 1px dotted black;border-radius: 0.25em;box-sizing: border-box;margin-bottom: 0.5em;}#sk-container-id-1 div.sk-estimator:hover {background-color: #d4ebff;}#sk-container-id-1 div.sk-parallel-item::after {content: \"\";width: 100%;border-bottom: 1px solid gray;flex-grow: 1;}#sk-container-id-1 div.sk-label:hover label.sk-toggleable__label {background-color: #d4ebff;}#sk-container-id-1 div.sk-serial::before {content: \"\";position: absolute;border-left: 1px solid gray;box-sizing: border-box;top: 0;bottom: 0;left: 50%;z-index: 0;}#sk-container-id-1 div.sk-serial {display: flex;flex-direction: column;align-items: center;background-color: white;padding-right: 0.2em;padding-left: 0.2em;position: relative;}#sk-container-id-1 div.sk-item {position: relative;z-index: 1;}#sk-container-id-1 div.sk-parallel {display: flex;align-items: stretch;justify-content: center;background-color: white;position: relative;}#sk-container-id-1 div.sk-item::before, #sk-container-id-1 div.sk-parallel-item::before {content: \"\";position: absolute;border-left: 1px solid gray;box-sizing: border-box;top: 0;bottom: 0;left: 50%;z-index: -1;}#sk-container-id-1 div.sk-parallel-item {display: flex;flex-direction: column;z-index: 1;position: relative;background-color: white;}#sk-container-id-1 div.sk-parallel-item:first-child::after {align-self: flex-end;width: 50%;}#sk-container-id-1 div.sk-parallel-item:last-child::after {align-self: flex-start;width: 50%;}#sk-container-id-1 div.sk-parallel-item:only-child::after {width: 0;}#sk-container-id-1 div.sk-dashed-wrapped {border: 1px dashed gray;margin: 0 0.4em 0.5em 0.4em;box-sizing: border-box;padding-bottom: 0.4em;background-color: white;}#sk-container-id-1 div.sk-label label {font-family: monospace;font-weight: bold;display: inline-block;line-height: 1.2em;}#sk-container-id-1 div.sk-label-container {text-align: center;}#sk-container-id-1 div.sk-container {/* jupyter's `normalize.less` sets `[hidden] { display: none; }` but bootstrap.min.css set `[hidden] { display: none !important; }` so we also need the `!important` here to be able to override the default hidden behavior on the sphinx rendered scikit-learn.org. See: https://github.com/scikit-learn/scikit-learn/issues/21755 */display: inline-block !important;position: relative;}#sk-container-id-1 div.sk-text-repr-fallback {display: none;}</style><div id=\"sk-container-id-1\" class=\"sk-top-container\"><div class=\"sk-text-repr-fallback\"><pre>MultiOutputRegressor(estimator=SVR())</pre><b>In a Jupyter environment, please rerun this cell to show the HTML representation or trust the notebook. <br />On GitHub, the HTML representation is unable to render, please try loading this page with nbviewer.org.</b></div><div class=\"sk-container\" hidden><div class=\"sk-item sk-dashed-wrapped\"><div class=\"sk-label-container\"><div class=\"sk-label sk-toggleable\"><input class=\"sk-toggleable__control sk-hidden--visually\" id=\"sk-estimator-id-1\" type=\"checkbox\" ><label for=\"sk-estimator-id-1\" class=\"sk-toggleable__label sk-toggleable__label-arrow\">MultiOutputRegressor</label><div class=\"sk-toggleable__content\"><pre>MultiOutputRegressor(estimator=SVR())</pre></div></div></div><div class=\"sk-parallel\"><div class=\"sk-parallel-item\"><div class=\"sk-item\"><div class=\"sk-label-container\"><div class=\"sk-label sk-toggleable\"><input class=\"sk-toggleable__control sk-hidden--visually\" id=\"sk-estimator-id-2\" type=\"checkbox\" ><label for=\"sk-estimator-id-2\" class=\"sk-toggleable__label sk-toggleable__label-arrow\">estimator: SVR</label><div class=\"sk-toggleable__content\"><pre>SVR()</pre></div></div></div><div class=\"sk-serial\"><div class=\"sk-item\"><div class=\"sk-estimator sk-toggleable\"><input class=\"sk-toggleable__control sk-hidden--visually\" id=\"sk-estimator-id-3\" type=\"checkbox\" ><label for=\"sk-estimator-id-3\" class=\"sk-toggleable__label sk-toggleable__label-arrow\">SVR</label><div class=\"sk-toggleable__content\"><pre>SVR()</pre></div></div></div></div></div></div></div></div></div></div>"
      ],
      "text/plain": [
       "MultiOutputRegressor(estimator=SVR())"
      ]
     },
     "execution_count": 31,
     "metadata": {},
     "output_type": "execute_result"
    }
   ],
   "source": [
    "multi_1.fit(x_train, y_train)"
   ]
  },
  {
   "cell_type": "code",
   "execution_count": 32,
   "id": "87eff634",
   "metadata": {},
   "outputs": [],
   "source": [
    "preds_svm = multi_1.predict(x_val)"
   ]
  },
  {
   "cell_type": "code",
   "execution_count": 33,
   "id": "9b23cb93",
   "metadata": {},
   "outputs": [],
   "source": [
    "from sklearn.metrics import mean_squared_error, r2_score"
   ]
  },
  {
   "cell_type": "code",
   "execution_count": 34,
   "id": "346aa846",
   "metadata": {},
   "outputs": [
    {
     "data": {
      "text/plain": [
       "0.2554631464915783"
      ]
     },
     "execution_count": 34,
     "metadata": {},
     "output_type": "execute_result"
    }
   ],
   "source": [
    "mean_squared_error(y_val, preds_svm)"
   ]
  },
  {
   "cell_type": "code",
   "execution_count": 35,
   "id": "ef848cee",
   "metadata": {},
   "outputs": [
    {
     "data": {
      "text/plain": [
       "0.32031561628079525"
      ]
     },
     "execution_count": 35,
     "metadata": {},
     "output_type": "execute_result"
    }
   ],
   "source": [
    "r2_score(y_val, preds_svm)"
   ]
  },
  {
   "cell_type": "markdown",
   "id": "8bf731c3",
   "metadata": {},
   "source": [
    "### XGBOOST baseline model"
   ]
  },
  {
   "cell_type": "code",
   "execution_count": 36,
   "id": "9a4e61cd",
   "metadata": {},
   "outputs": [],
   "source": [
    "xg_model = XGBRFRegressor()"
   ]
  },
  {
   "cell_type": "code",
   "execution_count": 37,
   "id": "227d6ee6",
   "metadata": {},
   "outputs": [],
   "source": [
    "multi_2 = MultiOutputRegressor(xg_model)"
   ]
  },
  {
   "cell_type": "code",
   "execution_count": 38,
   "id": "e4af63c5",
   "metadata": {},
   "outputs": [
    {
     "data": {
      "text/html": [
       "<style>#sk-container-id-2 {color: black;background-color: white;}#sk-container-id-2 pre{padding: 0;}#sk-container-id-2 div.sk-toggleable {background-color: white;}#sk-container-id-2 label.sk-toggleable__label {cursor: pointer;display: block;width: 100%;margin-bottom: 0;padding: 0.3em;box-sizing: border-box;text-align: center;}#sk-container-id-2 label.sk-toggleable__label-arrow:before {content: \"▸\";float: left;margin-right: 0.25em;color: #696969;}#sk-container-id-2 label.sk-toggleable__label-arrow:hover:before {color: black;}#sk-container-id-2 div.sk-estimator:hover label.sk-toggleable__label-arrow:before {color: black;}#sk-container-id-2 div.sk-toggleable__content {max-height: 0;max-width: 0;overflow: hidden;text-align: left;background-color: #f0f8ff;}#sk-container-id-2 div.sk-toggleable__content pre {margin: 0.2em;color: black;border-radius: 0.25em;background-color: #f0f8ff;}#sk-container-id-2 input.sk-toggleable__control:checked~div.sk-toggleable__content {max-height: 200px;max-width: 100%;overflow: auto;}#sk-container-id-2 input.sk-toggleable__control:checked~label.sk-toggleable__label-arrow:before {content: \"▾\";}#sk-container-id-2 div.sk-estimator input.sk-toggleable__control:checked~label.sk-toggleable__label {background-color: #d4ebff;}#sk-container-id-2 div.sk-label input.sk-toggleable__control:checked~label.sk-toggleable__label {background-color: #d4ebff;}#sk-container-id-2 input.sk-hidden--visually {border: 0;clip: rect(1px 1px 1px 1px);clip: rect(1px, 1px, 1px, 1px);height: 1px;margin: -1px;overflow: hidden;padding: 0;position: absolute;width: 1px;}#sk-container-id-2 div.sk-estimator {font-family: monospace;background-color: #f0f8ff;border: 1px dotted black;border-radius: 0.25em;box-sizing: border-box;margin-bottom: 0.5em;}#sk-container-id-2 div.sk-estimator:hover {background-color: #d4ebff;}#sk-container-id-2 div.sk-parallel-item::after {content: \"\";width: 100%;border-bottom: 1px solid gray;flex-grow: 1;}#sk-container-id-2 div.sk-label:hover label.sk-toggleable__label {background-color: #d4ebff;}#sk-container-id-2 div.sk-serial::before {content: \"\";position: absolute;border-left: 1px solid gray;box-sizing: border-box;top: 0;bottom: 0;left: 50%;z-index: 0;}#sk-container-id-2 div.sk-serial {display: flex;flex-direction: column;align-items: center;background-color: white;padding-right: 0.2em;padding-left: 0.2em;position: relative;}#sk-container-id-2 div.sk-item {position: relative;z-index: 1;}#sk-container-id-2 div.sk-parallel {display: flex;align-items: stretch;justify-content: center;background-color: white;position: relative;}#sk-container-id-2 div.sk-item::before, #sk-container-id-2 div.sk-parallel-item::before {content: \"\";position: absolute;border-left: 1px solid gray;box-sizing: border-box;top: 0;bottom: 0;left: 50%;z-index: -1;}#sk-container-id-2 div.sk-parallel-item {display: flex;flex-direction: column;z-index: 1;position: relative;background-color: white;}#sk-container-id-2 div.sk-parallel-item:first-child::after {align-self: flex-end;width: 50%;}#sk-container-id-2 div.sk-parallel-item:last-child::after {align-self: flex-start;width: 50%;}#sk-container-id-2 div.sk-parallel-item:only-child::after {width: 0;}#sk-container-id-2 div.sk-dashed-wrapped {border: 1px dashed gray;margin: 0 0.4em 0.5em 0.4em;box-sizing: border-box;padding-bottom: 0.4em;background-color: white;}#sk-container-id-2 div.sk-label label {font-family: monospace;font-weight: bold;display: inline-block;line-height: 1.2em;}#sk-container-id-2 div.sk-label-container {text-align: center;}#sk-container-id-2 div.sk-container {/* jupyter's `normalize.less` sets `[hidden] { display: none; }` but bootstrap.min.css set `[hidden] { display: none !important; }` so we also need the `!important` here to be able to override the default hidden behavior on the sphinx rendered scikit-learn.org. See: https://github.com/scikit-learn/scikit-learn/issues/21755 */display: inline-block !important;position: relative;}#sk-container-id-2 div.sk-text-repr-fallback {display: none;}</style><div id=\"sk-container-id-2\" class=\"sk-top-container\"><div class=\"sk-text-repr-fallback\"><pre>MultiOutputRegressor(estimator=XGBRFRegressor(base_score=None, booster=None,\n",
       "                                              callbacks=None,\n",
       "                                              colsample_bylevel=None,\n",
       "                                              colsample_bytree=None,\n",
       "                                              early_stopping_rounds=None,\n",
       "                                              enable_categorical=False,\n",
       "                                              eval_metric=None, gamma=None,\n",
       "                                              gpu_id=None, grow_policy=None,\n",
       "                                              importance_type=None,\n",
       "                                              interaction_constraints=None,\n",
       "                                              max_bin=None,\n",
       "                                              max_cat_to_onehot=None,\n",
       "                                              max_delta_step=None,\n",
       "                                              max_depth=None, max_leaves=None,\n",
       "                                              min_child_weight=None,\n",
       "                                              missing=nan,\n",
       "                                              monotone_constraints=None,\n",
       "                                              n_estimators=100, n_jobs=None,\n",
       "                                              num_parallel_tree=None,\n",
       "                                              objective=&#x27;reg:squarederror&#x27;,\n",
       "                                              predictor=None, random_state=None,\n",
       "                                              reg_alpha=None,\n",
       "                                              sampling_method=None,\n",
       "                                              scale_pos_weight=None, ...))</pre><b>In a Jupyter environment, please rerun this cell to show the HTML representation or trust the notebook. <br />On GitHub, the HTML representation is unable to render, please try loading this page with nbviewer.org.</b></div><div class=\"sk-container\" hidden><div class=\"sk-item sk-dashed-wrapped\"><div class=\"sk-label-container\"><div class=\"sk-label sk-toggleable\"><input class=\"sk-toggleable__control sk-hidden--visually\" id=\"sk-estimator-id-4\" type=\"checkbox\" ><label for=\"sk-estimator-id-4\" class=\"sk-toggleable__label sk-toggleable__label-arrow\">MultiOutputRegressor</label><div class=\"sk-toggleable__content\"><pre>MultiOutputRegressor(estimator=XGBRFRegressor(base_score=None, booster=None,\n",
       "                                              callbacks=None,\n",
       "                                              colsample_bylevel=None,\n",
       "                                              colsample_bytree=None,\n",
       "                                              early_stopping_rounds=None,\n",
       "                                              enable_categorical=False,\n",
       "                                              eval_metric=None, gamma=None,\n",
       "                                              gpu_id=None, grow_policy=None,\n",
       "                                              importance_type=None,\n",
       "                                              interaction_constraints=None,\n",
       "                                              max_bin=None,\n",
       "                                              max_cat_to_onehot=None,\n",
       "                                              max_delta_step=None,\n",
       "                                              max_depth=None, max_leaves=None,\n",
       "                                              min_child_weight=None,\n",
       "                                              missing=nan,\n",
       "                                              monotone_constraints=None,\n",
       "                                              n_estimators=100, n_jobs=None,\n",
       "                                              num_parallel_tree=None,\n",
       "                                              objective=&#x27;reg:squarederror&#x27;,\n",
       "                                              predictor=None, random_state=None,\n",
       "                                              reg_alpha=None,\n",
       "                                              sampling_method=None,\n",
       "                                              scale_pos_weight=None, ...))</pre></div></div></div><div class=\"sk-parallel\"><div class=\"sk-parallel-item\"><div class=\"sk-item\"><div class=\"sk-label-container\"><div class=\"sk-label sk-toggleable\"><input class=\"sk-toggleable__control sk-hidden--visually\" id=\"sk-estimator-id-5\" type=\"checkbox\" ><label for=\"sk-estimator-id-5\" class=\"sk-toggleable__label sk-toggleable__label-arrow\">estimator: XGBRFRegressor</label><div class=\"sk-toggleable__content\"><pre>XGBRFRegressor(base_score=None, booster=None, callbacks=None,\n",
       "               colsample_bylevel=None, colsample_bytree=None,\n",
       "               early_stopping_rounds=None, enable_categorical=False,\n",
       "               eval_metric=None, gamma=None, gpu_id=None, grow_policy=None,\n",
       "               importance_type=None, interaction_constraints=None, max_bin=None,\n",
       "               max_cat_to_onehot=None, max_delta_step=None, max_depth=None,\n",
       "               max_leaves=None, min_child_weight=None, missing=nan,\n",
       "               monotone_constraints=None, n_estimators=100, n_jobs=None,\n",
       "               num_parallel_tree=None, objective=&#x27;reg:squarederror&#x27;,\n",
       "               predictor=None, random_state=None, reg_alpha=None,\n",
       "               sampling_method=None, scale_pos_weight=None, ...)</pre></div></div></div><div class=\"sk-serial\"><div class=\"sk-item\"><div class=\"sk-estimator sk-toggleable\"><input class=\"sk-toggleable__control sk-hidden--visually\" id=\"sk-estimator-id-6\" type=\"checkbox\" ><label for=\"sk-estimator-id-6\" class=\"sk-toggleable__label sk-toggleable__label-arrow\">XGBRFRegressor</label><div class=\"sk-toggleable__content\"><pre>XGBRFRegressor(base_score=None, booster=None, callbacks=None,\n",
       "               colsample_bylevel=None, colsample_bytree=None,\n",
       "               early_stopping_rounds=None, enable_categorical=False,\n",
       "               eval_metric=None, gamma=None, gpu_id=None, grow_policy=None,\n",
       "               importance_type=None, interaction_constraints=None, max_bin=None,\n",
       "               max_cat_to_onehot=None, max_delta_step=None, max_depth=None,\n",
       "               max_leaves=None, min_child_weight=None, missing=nan,\n",
       "               monotone_constraints=None, n_estimators=100, n_jobs=None,\n",
       "               num_parallel_tree=None, objective=&#x27;reg:squarederror&#x27;,\n",
       "               predictor=None, random_state=None, reg_alpha=None,\n",
       "               sampling_method=None, scale_pos_weight=None, ...)</pre></div></div></div></div></div></div></div></div></div></div>"
      ],
      "text/plain": [
       "MultiOutputRegressor(estimator=XGBRFRegressor(base_score=None, booster=None,\n",
       "                                              callbacks=None,\n",
       "                                              colsample_bylevel=None,\n",
       "                                              colsample_bytree=None,\n",
       "                                              early_stopping_rounds=None,\n",
       "                                              enable_categorical=False,\n",
       "                                              eval_metric=None, gamma=None,\n",
       "                                              gpu_id=None, grow_policy=None,\n",
       "                                              importance_type=None,\n",
       "                                              interaction_constraints=None,\n",
       "                                              max_bin=None,\n",
       "                                              max_cat_to_onehot=None,\n",
       "                                              max_delta_step=None,\n",
       "                                              max_depth=None, max_leaves=None,\n",
       "                                              min_child_weight=None,\n",
       "                                              missing=nan,\n",
       "                                              monotone_constraints=None,\n",
       "                                              n_estimators=100, n_jobs=None,\n",
       "                                              num_parallel_tree=None,\n",
       "                                              objective='reg:squarederror',\n",
       "                                              predictor=None, random_state=None,\n",
       "                                              reg_alpha=None,\n",
       "                                              sampling_method=None,\n",
       "                                              scale_pos_weight=None, ...))"
      ]
     },
     "execution_count": 38,
     "metadata": {},
     "output_type": "execute_result"
    }
   ],
   "source": [
    "multi_2.fit(x_train, y_train)"
   ]
  },
  {
   "cell_type": "code",
   "execution_count": 39,
   "id": "18de4a6b",
   "metadata": {},
   "outputs": [],
   "source": [
    "preds_xg = multi_2.predict(x_val)"
   ]
  },
  {
   "cell_type": "code",
   "execution_count": 40,
   "id": "c31f2ac0",
   "metadata": {},
   "outputs": [
    {
     "data": {
      "text/plain": [
       "0.25908417101943865"
      ]
     },
     "execution_count": 40,
     "metadata": {},
     "output_type": "execute_result"
    }
   ],
   "source": [
    "mean_squared_error(y_val, preds_xg)"
   ]
  },
  {
   "cell_type": "code",
   "execution_count": 41,
   "id": "c83a317f",
   "metadata": {
    "scrolled": true
   },
   "outputs": [
    {
     "data": {
      "text/plain": [
       "0.3115044294570222"
      ]
     },
     "execution_count": 41,
     "metadata": {},
     "output_type": "execute_result"
    }
   ],
   "source": [
    "r2_score(y_val, preds_xg)"
   ]
  },
  {
   "cell_type": "markdown",
   "id": "e3546cf8",
   "metadata": {},
   "source": [
    "### Random Forest baseline model"
   ]
  },
  {
   "cell_type": "code",
   "execution_count": 42,
   "id": "7e949cae",
   "metadata": {},
   "outputs": [],
   "source": [
    "rf_model = RandomForestRegressor()"
   ]
  },
  {
   "cell_type": "code",
   "execution_count": 43,
   "id": "f39ae24a",
   "metadata": {},
   "outputs": [
    {
     "data": {
      "text/html": [
       "<style>#sk-container-id-3 {color: black;background-color: white;}#sk-container-id-3 pre{padding: 0;}#sk-container-id-3 div.sk-toggleable {background-color: white;}#sk-container-id-3 label.sk-toggleable__label {cursor: pointer;display: block;width: 100%;margin-bottom: 0;padding: 0.3em;box-sizing: border-box;text-align: center;}#sk-container-id-3 label.sk-toggleable__label-arrow:before {content: \"▸\";float: left;margin-right: 0.25em;color: #696969;}#sk-container-id-3 label.sk-toggleable__label-arrow:hover:before {color: black;}#sk-container-id-3 div.sk-estimator:hover label.sk-toggleable__label-arrow:before {color: black;}#sk-container-id-3 div.sk-toggleable__content {max-height: 0;max-width: 0;overflow: hidden;text-align: left;background-color: #f0f8ff;}#sk-container-id-3 div.sk-toggleable__content pre {margin: 0.2em;color: black;border-radius: 0.25em;background-color: #f0f8ff;}#sk-container-id-3 input.sk-toggleable__control:checked~div.sk-toggleable__content {max-height: 200px;max-width: 100%;overflow: auto;}#sk-container-id-3 input.sk-toggleable__control:checked~label.sk-toggleable__label-arrow:before {content: \"▾\";}#sk-container-id-3 div.sk-estimator input.sk-toggleable__control:checked~label.sk-toggleable__label {background-color: #d4ebff;}#sk-container-id-3 div.sk-label input.sk-toggleable__control:checked~label.sk-toggleable__label {background-color: #d4ebff;}#sk-container-id-3 input.sk-hidden--visually {border: 0;clip: rect(1px 1px 1px 1px);clip: rect(1px, 1px, 1px, 1px);height: 1px;margin: -1px;overflow: hidden;padding: 0;position: absolute;width: 1px;}#sk-container-id-3 div.sk-estimator {font-family: monospace;background-color: #f0f8ff;border: 1px dotted black;border-radius: 0.25em;box-sizing: border-box;margin-bottom: 0.5em;}#sk-container-id-3 div.sk-estimator:hover {background-color: #d4ebff;}#sk-container-id-3 div.sk-parallel-item::after {content: \"\";width: 100%;border-bottom: 1px solid gray;flex-grow: 1;}#sk-container-id-3 div.sk-label:hover label.sk-toggleable__label {background-color: #d4ebff;}#sk-container-id-3 div.sk-serial::before {content: \"\";position: absolute;border-left: 1px solid gray;box-sizing: border-box;top: 0;bottom: 0;left: 50%;z-index: 0;}#sk-container-id-3 div.sk-serial {display: flex;flex-direction: column;align-items: center;background-color: white;padding-right: 0.2em;padding-left: 0.2em;position: relative;}#sk-container-id-3 div.sk-item {position: relative;z-index: 1;}#sk-container-id-3 div.sk-parallel {display: flex;align-items: stretch;justify-content: center;background-color: white;position: relative;}#sk-container-id-3 div.sk-item::before, #sk-container-id-3 div.sk-parallel-item::before {content: \"\";position: absolute;border-left: 1px solid gray;box-sizing: border-box;top: 0;bottom: 0;left: 50%;z-index: -1;}#sk-container-id-3 div.sk-parallel-item {display: flex;flex-direction: column;z-index: 1;position: relative;background-color: white;}#sk-container-id-3 div.sk-parallel-item:first-child::after {align-self: flex-end;width: 50%;}#sk-container-id-3 div.sk-parallel-item:last-child::after {align-self: flex-start;width: 50%;}#sk-container-id-3 div.sk-parallel-item:only-child::after {width: 0;}#sk-container-id-3 div.sk-dashed-wrapped {border: 1px dashed gray;margin: 0 0.4em 0.5em 0.4em;box-sizing: border-box;padding-bottom: 0.4em;background-color: white;}#sk-container-id-3 div.sk-label label {font-family: monospace;font-weight: bold;display: inline-block;line-height: 1.2em;}#sk-container-id-3 div.sk-label-container {text-align: center;}#sk-container-id-3 div.sk-container {/* jupyter's `normalize.less` sets `[hidden] { display: none; }` but bootstrap.min.css set `[hidden] { display: none !important; }` so we also need the `!important` here to be able to override the default hidden behavior on the sphinx rendered scikit-learn.org. See: https://github.com/scikit-learn/scikit-learn/issues/21755 */display: inline-block !important;position: relative;}#sk-container-id-3 div.sk-text-repr-fallback {display: none;}</style><div id=\"sk-container-id-3\" class=\"sk-top-container\"><div class=\"sk-text-repr-fallback\"><pre>RandomForestRegressor()</pre><b>In a Jupyter environment, please rerun this cell to show the HTML representation or trust the notebook. <br />On GitHub, the HTML representation is unable to render, please try loading this page with nbviewer.org.</b></div><div class=\"sk-container\" hidden><div class=\"sk-item\"><div class=\"sk-estimator sk-toggleable\"><input class=\"sk-toggleable__control sk-hidden--visually\" id=\"sk-estimator-id-7\" type=\"checkbox\" checked><label for=\"sk-estimator-id-7\" class=\"sk-toggleable__label sk-toggleable__label-arrow\">RandomForestRegressor</label><div class=\"sk-toggleable__content\"><pre>RandomForestRegressor()</pre></div></div></div></div></div>"
      ],
      "text/plain": [
       "RandomForestRegressor()"
      ]
     },
     "execution_count": 43,
     "metadata": {},
     "output_type": "execute_result"
    }
   ],
   "source": [
    "rf_model.fit(x_train, y_train)"
   ]
  },
  {
   "cell_type": "code",
   "execution_count": 44,
   "id": "e67e97c1",
   "metadata": {},
   "outputs": [],
   "source": [
    "preds_rf = rf_model.predict(x_val)"
   ]
  },
  {
   "cell_type": "code",
   "execution_count": 45,
   "id": "20821dc7",
   "metadata": {},
   "outputs": [
    {
     "data": {
      "text/plain": [
       "0.2530566012311036"
      ]
     },
     "execution_count": 45,
     "metadata": {},
     "output_type": "execute_result"
    }
   ],
   "source": [
    "mean_squared_error(y_val, preds_rf)"
   ]
  },
  {
   "cell_type": "code",
   "execution_count": 46,
   "id": "96015622",
   "metadata": {
    "scrolled": false
   },
   "outputs": [
    {
     "data": {
      "text/plain": [
       "0.3283332554752705"
      ]
     },
     "execution_count": 46,
     "metadata": {},
     "output_type": "execute_result"
    }
   ],
   "source": [
    "r2_score(y_val, preds_rf)"
   ]
  },
  {
   "cell_type": "markdown",
   "id": "d534177f",
   "metadata": {},
   "source": [
    "### AdaBoost baseline model"
   ]
  },
  {
   "cell_type": "code",
   "execution_count": 47,
   "id": "761cbc7c",
   "metadata": {},
   "outputs": [],
   "source": [
    "ada_model = AdaBoostRegressor()"
   ]
  },
  {
   "cell_type": "code",
   "execution_count": 48,
   "id": "7a6a69e0",
   "metadata": {},
   "outputs": [],
   "source": [
    "multi_3 = MultiOutputRegressor(ada_model)"
   ]
  },
  {
   "cell_type": "code",
   "execution_count": 49,
   "id": "2e91420c",
   "metadata": {},
   "outputs": [
    {
     "data": {
      "text/html": [
       "<style>#sk-container-id-4 {color: black;background-color: white;}#sk-container-id-4 pre{padding: 0;}#sk-container-id-4 div.sk-toggleable {background-color: white;}#sk-container-id-4 label.sk-toggleable__label {cursor: pointer;display: block;width: 100%;margin-bottom: 0;padding: 0.3em;box-sizing: border-box;text-align: center;}#sk-container-id-4 label.sk-toggleable__label-arrow:before {content: \"▸\";float: left;margin-right: 0.25em;color: #696969;}#sk-container-id-4 label.sk-toggleable__label-arrow:hover:before {color: black;}#sk-container-id-4 div.sk-estimator:hover label.sk-toggleable__label-arrow:before {color: black;}#sk-container-id-4 div.sk-toggleable__content {max-height: 0;max-width: 0;overflow: hidden;text-align: left;background-color: #f0f8ff;}#sk-container-id-4 div.sk-toggleable__content pre {margin: 0.2em;color: black;border-radius: 0.25em;background-color: #f0f8ff;}#sk-container-id-4 input.sk-toggleable__control:checked~div.sk-toggleable__content {max-height: 200px;max-width: 100%;overflow: auto;}#sk-container-id-4 input.sk-toggleable__control:checked~label.sk-toggleable__label-arrow:before {content: \"▾\";}#sk-container-id-4 div.sk-estimator input.sk-toggleable__control:checked~label.sk-toggleable__label {background-color: #d4ebff;}#sk-container-id-4 div.sk-label input.sk-toggleable__control:checked~label.sk-toggleable__label {background-color: #d4ebff;}#sk-container-id-4 input.sk-hidden--visually {border: 0;clip: rect(1px 1px 1px 1px);clip: rect(1px, 1px, 1px, 1px);height: 1px;margin: -1px;overflow: hidden;padding: 0;position: absolute;width: 1px;}#sk-container-id-4 div.sk-estimator {font-family: monospace;background-color: #f0f8ff;border: 1px dotted black;border-radius: 0.25em;box-sizing: border-box;margin-bottom: 0.5em;}#sk-container-id-4 div.sk-estimator:hover {background-color: #d4ebff;}#sk-container-id-4 div.sk-parallel-item::after {content: \"\";width: 100%;border-bottom: 1px solid gray;flex-grow: 1;}#sk-container-id-4 div.sk-label:hover label.sk-toggleable__label {background-color: #d4ebff;}#sk-container-id-4 div.sk-serial::before {content: \"\";position: absolute;border-left: 1px solid gray;box-sizing: border-box;top: 0;bottom: 0;left: 50%;z-index: 0;}#sk-container-id-4 div.sk-serial {display: flex;flex-direction: column;align-items: center;background-color: white;padding-right: 0.2em;padding-left: 0.2em;position: relative;}#sk-container-id-4 div.sk-item {position: relative;z-index: 1;}#sk-container-id-4 div.sk-parallel {display: flex;align-items: stretch;justify-content: center;background-color: white;position: relative;}#sk-container-id-4 div.sk-item::before, #sk-container-id-4 div.sk-parallel-item::before {content: \"\";position: absolute;border-left: 1px solid gray;box-sizing: border-box;top: 0;bottom: 0;left: 50%;z-index: -1;}#sk-container-id-4 div.sk-parallel-item {display: flex;flex-direction: column;z-index: 1;position: relative;background-color: white;}#sk-container-id-4 div.sk-parallel-item:first-child::after {align-self: flex-end;width: 50%;}#sk-container-id-4 div.sk-parallel-item:last-child::after {align-self: flex-start;width: 50%;}#sk-container-id-4 div.sk-parallel-item:only-child::after {width: 0;}#sk-container-id-4 div.sk-dashed-wrapped {border: 1px dashed gray;margin: 0 0.4em 0.5em 0.4em;box-sizing: border-box;padding-bottom: 0.4em;background-color: white;}#sk-container-id-4 div.sk-label label {font-family: monospace;font-weight: bold;display: inline-block;line-height: 1.2em;}#sk-container-id-4 div.sk-label-container {text-align: center;}#sk-container-id-4 div.sk-container {/* jupyter's `normalize.less` sets `[hidden] { display: none; }` but bootstrap.min.css set `[hidden] { display: none !important; }` so we also need the `!important` here to be able to override the default hidden behavior on the sphinx rendered scikit-learn.org. See: https://github.com/scikit-learn/scikit-learn/issues/21755 */display: inline-block !important;position: relative;}#sk-container-id-4 div.sk-text-repr-fallback {display: none;}</style><div id=\"sk-container-id-4\" class=\"sk-top-container\"><div class=\"sk-text-repr-fallback\"><pre>MultiOutputRegressor(estimator=AdaBoostRegressor())</pre><b>In a Jupyter environment, please rerun this cell to show the HTML representation or trust the notebook. <br />On GitHub, the HTML representation is unable to render, please try loading this page with nbviewer.org.</b></div><div class=\"sk-container\" hidden><div class=\"sk-item sk-dashed-wrapped\"><div class=\"sk-label-container\"><div class=\"sk-label sk-toggleable\"><input class=\"sk-toggleable__control sk-hidden--visually\" id=\"sk-estimator-id-8\" type=\"checkbox\" ><label for=\"sk-estimator-id-8\" class=\"sk-toggleable__label sk-toggleable__label-arrow\">MultiOutputRegressor</label><div class=\"sk-toggleable__content\"><pre>MultiOutputRegressor(estimator=AdaBoostRegressor())</pre></div></div></div><div class=\"sk-parallel\"><div class=\"sk-parallel-item\"><div class=\"sk-item\"><div class=\"sk-label-container\"><div class=\"sk-label sk-toggleable\"><input class=\"sk-toggleable__control sk-hidden--visually\" id=\"sk-estimator-id-9\" type=\"checkbox\" ><label for=\"sk-estimator-id-9\" class=\"sk-toggleable__label sk-toggleable__label-arrow\">estimator: AdaBoostRegressor</label><div class=\"sk-toggleable__content\"><pre>AdaBoostRegressor()</pre></div></div></div><div class=\"sk-serial\"><div class=\"sk-item\"><div class=\"sk-estimator sk-toggleable\"><input class=\"sk-toggleable__control sk-hidden--visually\" id=\"sk-estimator-id-10\" type=\"checkbox\" ><label for=\"sk-estimator-id-10\" class=\"sk-toggleable__label sk-toggleable__label-arrow\">AdaBoostRegressor</label><div class=\"sk-toggleable__content\"><pre>AdaBoostRegressor()</pre></div></div></div></div></div></div></div></div></div></div>"
      ],
      "text/plain": [
       "MultiOutputRegressor(estimator=AdaBoostRegressor())"
      ]
     },
     "execution_count": 49,
     "metadata": {},
     "output_type": "execute_result"
    }
   ],
   "source": [
    "multi_3.fit(x_train, y_train)"
   ]
  },
  {
   "cell_type": "code",
   "execution_count": 50,
   "id": "46dd0d8f",
   "metadata": {},
   "outputs": [],
   "source": [
    "preds_ada = multi_3.predict(x_val)"
   ]
  },
  {
   "cell_type": "code",
   "execution_count": 51,
   "id": "a661ccc0",
   "metadata": {},
   "outputs": [
    {
     "data": {
      "text/plain": [
       "0.27306479336321515"
      ]
     },
     "execution_count": 51,
     "metadata": {},
     "output_type": "execute_result"
    }
   ],
   "source": [
    "mean_squared_error(y_val, preds_ada)"
   ]
  },
  {
   "cell_type": "code",
   "execution_count": 52,
   "id": "85f7c6b0",
   "metadata": {},
   "outputs": [
    {
     "data": {
      "text/plain": [
       "0.2750754313696914"
      ]
     },
     "execution_count": 52,
     "metadata": {},
     "output_type": "execute_result"
    }
   ],
   "source": [
    "r2_score(y_val, preds_ada)"
   ]
  },
  {
   "cell_type": "markdown",
   "id": "0da73510",
   "metadata": {},
   "source": [
    "### testing on video"
   ]
  },
  {
   "cell_type": "code",
   "execution_count": 53,
   "id": "10cea5f6",
   "metadata": {},
   "outputs": [
    {
     "data": {
      "text/plain": [
       "318"
      ]
     },
     "execution_count": 53,
     "metadata": {},
     "output_type": "execute_result"
    }
   ],
   "source": [
    "cap = cv2.VideoCapture('./test_video2.mp4')\n",
    "\n",
    "if (cap.isOpened()== False): \n",
    "  print(\"Error opening video  file\")\n",
    "\n",
    "#see number of frames\n",
    "int(cap.get(cv2.CAP_PROP_FRAME_COUNT))"
   ]
  },
  {
   "cell_type": "code",
   "execution_count": 54,
   "id": "4145f41b",
   "metadata": {},
   "outputs": [],
   "source": [
    "faceModule = mediapipe.solutions.face_mesh\n",
    "\n",
    "faces = faceModule.FaceMesh(static_image_mode=True)"
   ]
  },
  {
   "cell_type": "code",
   "execution_count": 55,
   "id": "fd836aa5",
   "metadata": {},
   "outputs": [],
   "source": [
    "#set first dimension as number of frames\n",
    "test_Data = np.zeros((318,936))"
   ]
  },
  {
   "cell_type": "code",
   "execution_count": 56,
   "id": "bf0ffa53",
   "metadata": {},
   "outputs": [],
   "source": [
    "x_points = []\n",
    "y_points = []\n",
    "with faceModule.FaceMesh(static_image_mode=True) as faces:\n",
    "    for i in range(test_Data.shape[0]):\n",
    "        ret, frame = cap.read()\n",
    "        if ret == True:\n",
    "            results = faces.process(frame[:,:,::-1])\n",
    "        x_points_img = []\n",
    "        y_points_img = []\n",
    "        if results.multi_face_landmarks is not None:\n",
    "            \n",
    "            for face in results.multi_face_landmarks:\n",
    "                \n",
    "                for landmark in face.landmark:\n",
    "                    \n",
    "                    x_points_img.append(landmark.x)\n",
    "                    y_points_img.append(landmark.y)\n",
    "        x_points.append(x_points_img)\n",
    "        y_points.append(y_points_img)"
   ]
  },
  {
   "cell_type": "code",
   "execution_count": 57,
   "id": "d699d4ba",
   "metadata": {},
   "outputs": [
    {
     "data": {
      "text/plain": [
       "318"
      ]
     },
     "execution_count": 57,
     "metadata": {},
     "output_type": "execute_result"
    }
   ],
   "source": [
    "len(x_points)"
   ]
  },
  {
   "cell_type": "code",
   "execution_count": null,
   "id": "707dcabb",
   "metadata": {},
   "outputs": [],
   "source": []
  },
  {
   "cell_type": "code",
   "execution_count": 58,
   "id": "7a6e5552",
   "metadata": {},
   "outputs": [],
   "source": [
    "for i in range(len(x_points)):\n",
    "    test_Data[i, :] = np.array(x_points[i] + y_points[i])"
   ]
  },
  {
   "cell_type": "code",
   "execution_count": 59,
   "id": "5a2c33f4",
   "metadata": {
    "scrolled": true
   },
   "outputs": [
    {
     "data": {
      "text/plain": [
       "(318, 936)"
      ]
     },
     "execution_count": 59,
     "metadata": {},
     "output_type": "execute_result"
    }
   ],
   "source": [
    "test_Data.shape"
   ]
  },
  {
   "cell_type": "code",
   "execution_count": 60,
   "id": "7d6fdfbb",
   "metadata": {},
   "outputs": [],
   "source": [
    "test_df = pd.DataFrame(data=test_Data)"
   ]
  },
  {
   "cell_type": "code",
   "execution_count": 61,
   "id": "a1386051",
   "metadata": {},
   "outputs": [
    {
     "data": {
      "text/plain": [
       "array([], dtype=float64)"
      ]
     },
     "execution_count": 61,
     "metadata": {},
     "output_type": "execute_result"
    }
   ],
   "source": [
    "test_Data[test_df.isna() == True]"
   ]
  },
  {
   "cell_type": "code",
   "execution_count": 62,
   "id": "1a694e34",
   "metadata": {},
   "outputs": [],
   "source": [
    "cap = cv2.VideoCapture('./test_video2.mp4')\n",
    "\n",
    "if (cap.isOpened()== False): \n",
    "  print(\"Error opening video  file\")"
   ]
  },
  {
   "cell_type": "code",
   "execution_count": 63,
   "id": "b1cda856",
   "metadata": {},
   "outputs": [
    {
     "name": "stdout",
     "output_type": "stream",
     "text": [
      "0\n",
      "1\n",
      "2\n",
      "3\n",
      "4\n",
      "5\n",
      "6\n",
      "7\n",
      "8\n",
      "9\n",
      "10\n",
      "11\n",
      "12\n",
      "13\n",
      "14\n",
      "15\n",
      "16\n",
      "17\n",
      "18\n",
      "19\n",
      "20\n",
      "21\n",
      "22\n",
      "23\n",
      "24\n",
      "25\n",
      "26\n",
      "27\n",
      "28\n",
      "29\n",
      "30\n",
      "31\n",
      "32\n",
      "33\n",
      "34\n",
      "35\n",
      "36\n",
      "37\n",
      "38\n",
      "39\n",
      "40\n",
      "41\n",
      "42\n",
      "43\n",
      "44\n",
      "45\n",
      "46\n",
      "47\n",
      "48\n",
      "49\n",
      "50\n",
      "51\n",
      "52\n",
      "53\n",
      "54\n",
      "55\n",
      "56\n",
      "57\n",
      "58\n",
      "59\n",
      "60\n",
      "61\n",
      "62\n",
      "63\n",
      "64\n",
      "65\n",
      "66\n",
      "67\n",
      "68\n",
      "69\n",
      "70\n",
      "71\n",
      "72\n",
      "73\n",
      "74\n",
      "75\n",
      "76\n",
      "77\n",
      "78\n",
      "79\n",
      "80\n",
      "81\n",
      "82\n",
      "83\n",
      "84\n",
      "85\n",
      "86\n",
      "87\n",
      "88\n",
      "89\n",
      "90\n",
      "91\n",
      "92\n",
      "93\n",
      "94\n",
      "95\n",
      "96\n",
      "97\n",
      "98\n",
      "99\n",
      "100\n",
      "101\n",
      "102\n",
      "103\n",
      "104\n",
      "105\n",
      "106\n",
      "107\n",
      "108\n",
      "109\n",
      "110\n",
      "111\n",
      "112\n",
      "113\n",
      "114\n",
      "115\n",
      "116\n",
      "117\n",
      "118\n",
      "119\n",
      "120\n",
      "121\n",
      "122\n",
      "123\n",
      "124\n",
      "125\n",
      "126\n",
      "127\n",
      "128\n",
      "129\n",
      "130\n",
      "131\n",
      "132\n",
      "133\n",
      "134\n",
      "135\n",
      "136\n",
      "137\n",
      "138\n",
      "139\n",
      "140\n",
      "141\n",
      "142\n",
      "143\n",
      "144\n",
      "145\n",
      "146\n",
      "147\n",
      "148\n",
      "149\n",
      "150\n",
      "151\n",
      "152\n",
      "153\n",
      "154\n",
      "155\n",
      "156\n",
      "157\n",
      "158\n",
      "159\n",
      "160\n",
      "161\n",
      "162\n",
      "163\n",
      "164\n",
      "165\n",
      "166\n",
      "167\n",
      "168\n",
      "169\n",
      "170\n",
      "171\n",
      "172\n",
      "173\n",
      "174\n",
      "175\n",
      "176\n",
      "177\n",
      "178\n",
      "179\n",
      "180\n",
      "181\n",
      "182\n",
      "183\n",
      "184\n",
      "185\n",
      "186\n",
      "187\n",
      "188\n",
      "189\n",
      "190\n",
      "191\n",
      "192\n",
      "193\n",
      "194\n",
      "195\n",
      "196\n",
      "197\n",
      "198\n",
      "199\n",
      "200\n",
      "201\n",
      "202\n",
      "203\n",
      "204\n",
      "205\n",
      "206\n",
      "207\n",
      "208\n",
      "209\n",
      "210\n",
      "211\n",
      "212\n",
      "213\n",
      "214\n",
      "215\n",
      "216\n",
      "217\n",
      "218\n",
      "219\n",
      "220\n",
      "221\n",
      "222\n",
      "223\n",
      "224\n",
      "225\n",
      "226\n",
      "227\n",
      "228\n",
      "229\n",
      "230\n",
      "231\n",
      "232\n",
      "233\n",
      "234\n",
      "235\n",
      "236\n",
      "237\n",
      "238\n",
      "239\n",
      "240\n",
      "241\n",
      "242\n",
      "243\n",
      "244\n",
      "245\n",
      "246\n",
      "247\n",
      "248\n",
      "249\n",
      "250\n",
      "251\n",
      "252\n",
      "253\n",
      "254\n",
      "255\n",
      "256\n",
      "257\n",
      "258\n",
      "259\n",
      "260\n",
      "261\n",
      "262\n",
      "263\n",
      "264\n",
      "265\n",
      "266\n",
      "267\n",
      "268\n",
      "269\n",
      "270\n",
      "271\n",
      "272\n",
      "273\n",
      "274\n",
      "275\n",
      "276\n",
      "277\n",
      "278\n",
      "279\n",
      "280\n",
      "281\n",
      "282\n",
      "283\n",
      "284\n",
      "285\n",
      "286\n",
      "287\n",
      "288\n",
      "289\n",
      "290\n",
      "291\n",
      "292\n",
      "293\n",
      "294\n",
      "295\n",
      "296\n",
      "297\n",
      "298\n",
      "299\n",
      "300\n",
      "301\n",
      "302\n",
      "303\n",
      "304\n",
      "305\n",
      "306\n",
      "307\n",
      "308\n",
      "309\n",
      "310\n",
      "311\n",
      "312\n",
      "313\n",
      "314\n",
      "315\n",
      "316\n",
      "317\n",
      "0\n",
      "1\n",
      "2\n",
      "3\n",
      "4\n",
      "5\n",
      "6\n",
      "7\n",
      "8\n",
      "9\n",
      "10\n",
      "11\n",
      "12\n",
      "13\n",
      "14\n",
      "15\n",
      "16\n",
      "17\n",
      "18\n",
      "19\n",
      "20\n",
      "21\n",
      "22\n",
      "23\n",
      "24\n",
      "25\n",
      "26\n",
      "27\n",
      "28\n",
      "29\n",
      "30\n",
      "31\n",
      "32\n",
      "33\n",
      "34\n",
      "35\n",
      "36\n",
      "37\n",
      "38\n",
      "39\n",
      "40\n",
      "41\n",
      "42\n",
      "43\n",
      "44\n",
      "45\n",
      "46\n",
      "47\n",
      "48\n",
      "49\n",
      "50\n",
      "51\n",
      "52\n",
      "53\n",
      "54\n",
      "55\n",
      "56\n",
      "57\n",
      "58\n",
      "59\n",
      "60\n",
      "61\n",
      "62\n",
      "63\n",
      "64\n",
      "65\n",
      "66\n",
      "67\n",
      "68\n",
      "69\n",
      "70\n",
      "71\n",
      "72\n",
      "73\n",
      "74\n",
      "75\n",
      "76\n",
      "77\n",
      "78\n",
      "79\n",
      "80\n",
      "81\n",
      "82\n",
      "83\n",
      "84\n",
      "85\n",
      "86\n",
      "87\n",
      "88\n",
      "89\n",
      "90\n",
      "91\n",
      "92\n",
      "93\n",
      "94\n",
      "95\n",
      "96\n",
      "97\n",
      "98\n",
      "99\n",
      "100\n",
      "101\n",
      "102\n",
      "103\n",
      "104\n",
      "105\n",
      "106\n",
      "107\n",
      "108\n",
      "109\n",
      "110\n"
     ]
    },
    {
     "name": "stderr",
     "output_type": "stream",
     "text": [
      "OpenCV: FFMPEG: tag 0x58564944/'DIVX' is not supported with codec id 12 and format 'mp4 / MP4 (MPEG-4 Part 14)'\n",
      "OpenCV: FFMPEG: fallback to use tag 0x7634706d/'mp4v'\n"
     ]
    },
    {
     "name": "stdout",
     "output_type": "stream",
     "text": [
      "111\n",
      "112\n",
      "113\n",
      "114\n",
      "115\n",
      "116\n",
      "117\n",
      "118\n",
      "119\n",
      "120\n",
      "121\n",
      "122\n",
      "123\n",
      "124\n",
      "125\n",
      "126\n",
      "127\n",
      "128\n",
      "129\n",
      "130\n",
      "131\n",
      "132\n",
      "133\n",
      "134\n",
      "135\n",
      "136\n",
      "137\n",
      "138\n",
      "139\n",
      "140\n",
      "141\n",
      "142\n",
      "143\n",
      "144\n",
      "145\n",
      "146\n",
      "147\n",
      "148\n",
      "149\n",
      "150\n",
      "151\n",
      "152\n",
      "153\n",
      "154\n",
      "155\n",
      "156\n",
      "157\n",
      "158\n",
      "159\n",
      "160\n",
      "161\n",
      "162\n",
      "163\n",
      "164\n",
      "165\n",
      "166\n",
      "167\n",
      "168\n",
      "169\n",
      "170\n",
      "171\n",
      "172\n",
      "173\n",
      "174\n",
      "175\n",
      "176\n",
      "177\n",
      "178\n",
      "179\n",
      "180\n",
      "181\n",
      "182\n",
      "183\n",
      "184\n",
      "185\n",
      "186\n",
      "187\n",
      "188\n",
      "189\n",
      "190\n",
      "191\n",
      "192\n",
      "193\n",
      "194\n",
      "195\n",
      "196\n",
      "197\n",
      "198\n",
      "199\n",
      "200\n",
      "201\n",
      "202\n",
      "203\n",
      "204\n",
      "205\n",
      "206\n",
      "207\n",
      "208\n",
      "209\n",
      "210\n",
      "211\n",
      "212\n",
      "213\n",
      "214\n",
      "215\n",
      "216\n",
      "217\n",
      "218\n",
      "219\n",
      "220\n",
      "221\n",
      "222\n",
      "223\n",
      "224\n",
      "225\n",
      "226\n",
      "227\n",
      "228\n",
      "229\n",
      "230\n",
      "231\n",
      "232\n",
      "233\n",
      "234\n",
      "235\n",
      "236\n",
      "237\n",
      "238\n",
      "239\n",
      "240\n",
      "241\n",
      "242\n",
      "243\n",
      "244\n",
      "245\n",
      "246\n",
      "247\n",
      "248\n",
      "249\n",
      "250\n",
      "251\n",
      "252\n",
      "253\n",
      "254\n",
      "255\n",
      "256\n",
      "257\n",
      "258\n",
      "259\n",
      "260\n",
      "261\n",
      "262\n",
      "263\n",
      "264\n",
      "265\n",
      "266\n",
      "267\n",
      "268\n",
      "269\n",
      "270\n",
      "271\n",
      "272\n",
      "273\n",
      "274\n",
      "275\n",
      "276\n",
      "277\n",
      "278\n",
      "279\n",
      "280\n",
      "281\n",
      "282\n",
      "283\n",
      "284\n",
      "285\n",
      "286\n",
      "287\n",
      "288\n",
      "289\n",
      "290\n",
      "291\n",
      "292\n",
      "293\n",
      "294\n",
      "295\n",
      "296\n",
      "297\n",
      "298\n",
      "299\n",
      "300\n",
      "301\n",
      "302\n",
      "303\n",
      "304\n",
      "305\n",
      "306\n",
      "307\n",
      "308\n",
      "309\n",
      "310\n",
      "311\n",
      "312\n",
      "313\n",
      "314\n",
      "315\n",
      "316\n",
      "317\n"
     ]
    }
   ],
   "source": [
    "img_array = []\n",
    "for i in range(test_Data.shape[0]):\n",
    "    ret, frame = cap.read()\n",
    "    if ret == True:\n",
    "        print(i)\n",
    "        frame = draw_axis(frame,\n",
    "                        yaw=multi_1.predict(test_Data[i].reshape(1,-1))[0][0],\n",
    "                        pitch=multi_1.predict(test_Data[i].reshape(1,-1))[0][1],\n",
    "                        roll=multi_1.predict(test_Data[i].reshape(1,-1))[0][2])\n",
    "        img_array.append(frame)\n",
    "        height, width, layers = frame.shape\n",
    "        size  = (width,height)\n",
    "    else:\n",
    "        \n",
    "        break\n",
    "\n",
    "out = cv2.VideoWriter('output_video1.mp4',cv2.VideoWriter_fourcc(*'DIVX'), 15, size)\n",
    " \n",
    "for i in range(len(img_array)):\n",
    "    out.write(img_array[i])\n",
    "    print(i)\n",
    "out.release()"
   ]
  },
  {
   "cell_type": "code",
   "execution_count": 64,
   "id": "227e2f1c",
   "metadata": {},
   "outputs": [
    {
     "data": {
      "text/plain": [
       "(318, 936)"
      ]
     },
     "execution_count": 64,
     "metadata": {},
     "output_type": "execute_result"
    }
   ],
   "source": [
    "cap.release()\n",
    "cv2.destroyAllWindows()\n",
    "test_Data.shape"
   ]
  },
  {
   "cell_type": "code",
   "execution_count": null,
   "id": "34fa0c9b",
   "metadata": {},
   "outputs": [],
   "source": []
  }
 ],
 "metadata": {
  "kernelspec": {
   "display_name": "Python 3 (ipykernel)",
   "language": "python",
   "name": "python3"
  },
  "language_info": {
   "codemirror_mode": {
    "name": "ipython",
    "version": 3
   },
   "file_extension": ".py",
   "mimetype": "text/x-python",
   "name": "python",
   "nbconvert_exporter": "python",
   "pygments_lexer": "ipython3",
   "version": "3.8.10"
  }
 },
 "nbformat": 4,
 "nbformat_minor": 5
}
